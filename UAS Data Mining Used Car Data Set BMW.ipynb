{
 "cells": [
  {
   "cell_type": "markdown",
   "metadata": {
    "papermill": {
     "duration": 0.022917,
     "end_time": "2021-02-14T15:30:34.884957",
     "exception": false,
     "start_time": "2021-02-14T15:30:34.862040",
     "status": "completed"
    },
    "tags": []
   },
   "source": [
    "## Loading Data "
   ]
  },
  {
   "cell_type": "code",
   "execution_count": 1,
   "metadata": {
    "_cell_guid": "b1076dfc-b9ad-4769-8c92-a6c4dae69d19",
    "_uuid": "8f2839f25d086af736a60e9eeb907d3b93b6e0e5",
    "execution": {
     "iopub.execute_input": "2021-02-14T15:30:34.935777Z",
     "iopub.status.busy": "2021-02-14T15:30:34.934770Z",
     "iopub.status.idle": "2021-02-14T15:30:34.954643Z",
     "shell.execute_reply": "2021-02-14T15:30:34.955570Z"
    },
    "papermill": {
     "duration": 0.046809,
     "end_time": "2021-02-14T15:30:34.956050",
     "exception": false,
     "start_time": "2021-02-14T15:30:34.909241",
     "status": "completed"
    },
    "tags": []
   },
   "outputs": [
    {
     "name": "stdout",
     "output_type": "stream",
     "text": [
      "/kaggle/input/used-car-dataset-ford-and-mercedes/cclass.csv\n",
      "/kaggle/input/used-car-dataset-ford-and-mercedes/unclean cclass.csv\n",
      "/kaggle/input/used-car-dataset-ford-and-mercedes/focus.csv\n",
      "/kaggle/input/used-car-dataset-ford-and-mercedes/audi.csv\n",
      "/kaggle/input/used-car-dataset-ford-and-mercedes/toyota.csv\n",
      "/kaggle/input/used-car-dataset-ford-and-mercedes/skoda.csv\n",
      "/kaggle/input/used-car-dataset-ford-and-mercedes/ford.csv\n",
      "/kaggle/input/used-car-dataset-ford-and-mercedes/vauxhall.csv\n",
      "/kaggle/input/used-car-dataset-ford-and-mercedes/bmw.csv\n",
      "/kaggle/input/used-car-dataset-ford-and-mercedes/vw.csv\n",
      "/kaggle/input/used-car-dataset-ford-and-mercedes/hyundi.csv\n",
      "/kaggle/input/used-car-dataset-ford-and-mercedes/unclean focus.csv\n",
      "/kaggle/input/used-car-dataset-ford-and-mercedes/merc.csv\n"
     ]
    }
   ],
   "source": [
    "# This Python 3 environment comes with many helpful analytics libraries installed\n",
    "# It is defined by the kaggle/python Docker image: https://github.com/kaggle/docker-python\n",
    "# For example, here's several helpful packages to load\n",
    "\n",
    "import numpy as np # linear algebra\n",
    "import pandas as pd # data processing, CSV file I/O (e.g. pd.read_csv)\n",
    "\n",
    "# Input data files are available in the read-only \"../input/\" directory\n",
    "# For example, running this (by clicking run or pressing Shift+Enter) will list all files under the input directory\n",
    "\n",
    "import os\n",
    "for dirname, _, filenames in os.walk('/kaggle/input'):\n",
    "    for filename in filenames:\n",
    "        print(os.path.join(dirname, filename))\n",
    "\n",
    "# You can write up to 20GB to the current directory (/kaggle/working/) that gets preserved as output when you create a version using \"Save & Run All\" \n",
    "# You can also write temporary files to /kaggle/temp/, but they won't be saved outside of the current session"
   ]
  },
  {
   "cell_type": "code",
   "execution_count": 2,
   "metadata": {
    "execution": {
     "iopub.execute_input": "2021-02-14T15:30:35.007432Z",
     "iopub.status.busy": "2021-02-14T15:30:35.006669Z",
     "iopub.status.idle": "2021-02-14T15:30:35.042551Z",
     "shell.execute_reply": "2021-02-14T15:30:35.043028Z"
    },
    "papermill": {
     "duration": 0.064276,
     "end_time": "2021-02-14T15:30:35.043255",
     "exception": false,
     "start_time": "2021-02-14T15:30:34.978979",
     "status": "completed"
    },
    "tags": []
   },
   "outputs": [],
   "source": [
    "df = pd.read_csv('../input/used-car-dataset-ford-and-mercedes/bmw.csv')"
   ]
  },
  {
   "cell_type": "markdown",
   "metadata": {
    "papermill": {
     "duration": 0.022207,
     "end_time": "2021-02-14T15:30:35.088210",
     "exception": false,
     "start_time": "2021-02-14T15:30:35.066003",
     "status": "completed"
    },
    "tags": []
   },
   "source": [
    "# Exploring Data"
   ]
  },
  {
   "cell_type": "code",
   "execution_count": 3,
   "metadata": {
    "execution": {
     "iopub.execute_input": "2021-02-14T15:30:35.138647Z",
     "iopub.status.busy": "2021-02-14T15:30:35.137676Z",
     "iopub.status.idle": "2021-02-14T15:30:35.169887Z",
     "shell.execute_reply": "2021-02-14T15:30:35.170427Z"
    },
    "papermill": {
     "duration": 0.058563,
     "end_time": "2021-02-14T15:30:35.170633",
     "exception": false,
     "start_time": "2021-02-14T15:30:35.112070",
     "status": "completed"
    },
    "tags": []
   },
   "outputs": [
    {
     "data": {
      "text/html": [
       "<div>\n",
       "<style scoped>\n",
       "    .dataframe tbody tr th:only-of-type {\n",
       "        vertical-align: middle;\n",
       "    }\n",
       "\n",
       "    .dataframe tbody tr th {\n",
       "        vertical-align: top;\n",
       "    }\n",
       "\n",
       "    .dataframe thead th {\n",
       "        text-align: right;\n",
       "    }\n",
       "</style>\n",
       "<table border=\"1\" class=\"dataframe\">\n",
       "  <thead>\n",
       "    <tr style=\"text-align: right;\">\n",
       "      <th></th>\n",
       "      <th>model</th>\n",
       "      <th>year</th>\n",
       "      <th>price</th>\n",
       "      <th>transmission</th>\n",
       "      <th>mileage</th>\n",
       "      <th>fuelType</th>\n",
       "      <th>tax</th>\n",
       "      <th>mpg</th>\n",
       "      <th>engineSize</th>\n",
       "    </tr>\n",
       "  </thead>\n",
       "  <tbody>\n",
       "    <tr>\n",
       "      <th>0</th>\n",
       "      <td>5 Series</td>\n",
       "      <td>2014</td>\n",
       "      <td>11200</td>\n",
       "      <td>Automatic</td>\n",
       "      <td>67068</td>\n",
       "      <td>Diesel</td>\n",
       "      <td>125</td>\n",
       "      <td>57.6</td>\n",
       "      <td>2.0</td>\n",
       "    </tr>\n",
       "    <tr>\n",
       "      <th>1</th>\n",
       "      <td>6 Series</td>\n",
       "      <td>2018</td>\n",
       "      <td>27000</td>\n",
       "      <td>Automatic</td>\n",
       "      <td>14827</td>\n",
       "      <td>Petrol</td>\n",
       "      <td>145</td>\n",
       "      <td>42.8</td>\n",
       "      <td>2.0</td>\n",
       "    </tr>\n",
       "    <tr>\n",
       "      <th>2</th>\n",
       "      <td>5 Series</td>\n",
       "      <td>2016</td>\n",
       "      <td>16000</td>\n",
       "      <td>Automatic</td>\n",
       "      <td>62794</td>\n",
       "      <td>Diesel</td>\n",
       "      <td>160</td>\n",
       "      <td>51.4</td>\n",
       "      <td>3.0</td>\n",
       "    </tr>\n",
       "    <tr>\n",
       "      <th>3</th>\n",
       "      <td>1 Series</td>\n",
       "      <td>2017</td>\n",
       "      <td>12750</td>\n",
       "      <td>Automatic</td>\n",
       "      <td>26676</td>\n",
       "      <td>Diesel</td>\n",
       "      <td>145</td>\n",
       "      <td>72.4</td>\n",
       "      <td>1.5</td>\n",
       "    </tr>\n",
       "    <tr>\n",
       "      <th>4</th>\n",
       "      <td>7 Series</td>\n",
       "      <td>2014</td>\n",
       "      <td>14500</td>\n",
       "      <td>Automatic</td>\n",
       "      <td>39554</td>\n",
       "      <td>Diesel</td>\n",
       "      <td>160</td>\n",
       "      <td>50.4</td>\n",
       "      <td>3.0</td>\n",
       "    </tr>\n",
       "  </tbody>\n",
       "</table>\n",
       "</div>"
      ],
      "text/plain": [
       "       model  year  price transmission  mileage fuelType  tax   mpg  \\\n",
       "0   5 Series  2014  11200    Automatic    67068   Diesel  125  57.6   \n",
       "1   6 Series  2018  27000    Automatic    14827   Petrol  145  42.8   \n",
       "2   5 Series  2016  16000    Automatic    62794   Diesel  160  51.4   \n",
       "3   1 Series  2017  12750    Automatic    26676   Diesel  145  72.4   \n",
       "4   7 Series  2014  14500    Automatic    39554   Diesel  160  50.4   \n",
       "\n",
       "   engineSize  \n",
       "0         2.0  \n",
       "1         2.0  \n",
       "2         3.0  \n",
       "3         1.5  \n",
       "4         3.0  "
      ]
     },
     "execution_count": 3,
     "metadata": {},
     "output_type": "execute_result"
    }
   ],
   "source": [
    "df.head()"
   ]
  },
  {
   "cell_type": "code",
   "execution_count": 4,
   "metadata": {
    "execution": {
     "iopub.execute_input": "2021-02-14T15:30:35.220915Z",
     "iopub.status.busy": "2021-02-14T15:30:35.219947Z",
     "iopub.status.idle": "2021-02-14T15:30:35.226661Z",
     "shell.execute_reply": "2021-02-14T15:30:35.226046Z"
    },
    "papermill": {
     "duration": 0.033241,
     "end_time": "2021-02-14T15:30:35.226828",
     "exception": false,
     "start_time": "2021-02-14T15:30:35.193587",
     "status": "completed"
    },
    "tags": []
   },
   "outputs": [
    {
     "data": {
      "text/plain": [
       "(10781, 9)"
      ]
     },
     "execution_count": 4,
     "metadata": {},
     "output_type": "execute_result"
    }
   ],
   "source": [
    "df.shape"
   ]
  },
  {
   "cell_type": "code",
   "execution_count": 5,
   "metadata": {
    "execution": {
     "iopub.execute_input": "2021-02-14T15:30:35.286096Z",
     "iopub.status.busy": "2021-02-14T15:30:35.283123Z",
     "iopub.status.idle": "2021-02-14T15:30:35.289856Z",
     "shell.execute_reply": "2021-02-14T15:30:35.290383Z"
    },
    "papermill": {
     "duration": 0.039894,
     "end_time": "2021-02-14T15:30:35.290573",
     "exception": false,
     "start_time": "2021-02-14T15:30:35.250679",
     "status": "completed"
    },
    "tags": []
   },
   "outputs": [
    {
     "data": {
      "text/plain": [
       "model           0\n",
       "year            0\n",
       "price           0\n",
       "transmission    0\n",
       "mileage         0\n",
       "fuelType        0\n",
       "tax             0\n",
       "mpg             0\n",
       "engineSize      0\n",
       "dtype: int64"
      ]
     },
     "execution_count": 5,
     "metadata": {},
     "output_type": "execute_result"
    }
   ],
   "source": [
    "df.isnull().sum()"
   ]
  },
  {
   "cell_type": "code",
   "execution_count": 6,
   "metadata": {
    "execution": {
     "iopub.execute_input": "2021-02-14T15:30:35.342686Z",
     "iopub.status.busy": "2021-02-14T15:30:35.341725Z",
     "iopub.status.idle": "2021-02-14T15:30:35.349526Z",
     "shell.execute_reply": "2021-02-14T15:30:35.348897Z"
    },
    "papermill": {
     "duration": 0.034889,
     "end_time": "2021-02-14T15:30:35.349666",
     "exception": false,
     "start_time": "2021-02-14T15:30:35.314777",
     "status": "completed"
    },
    "tags": []
   },
   "outputs": [
    {
     "data": {
      "text/plain": [
       "model            object\n",
       "year              int64\n",
       "price             int64\n",
       "transmission     object\n",
       "mileage           int64\n",
       "fuelType         object\n",
       "tax               int64\n",
       "mpg             float64\n",
       "engineSize      float64\n",
       "dtype: object"
      ]
     },
     "execution_count": 6,
     "metadata": {},
     "output_type": "execute_result"
    }
   ],
   "source": [
    "df.dtypes"
   ]
  },
  {
   "cell_type": "code",
   "execution_count": 7,
   "metadata": {
    "execution": {
     "iopub.execute_input": "2021-02-14T15:30:35.412594Z",
     "iopub.status.busy": "2021-02-14T15:30:35.411903Z",
     "iopub.status.idle": "2021-02-14T15:30:35.417103Z",
     "shell.execute_reply": "2021-02-14T15:30:35.417586Z"
    },
    "papermill": {
     "duration": 0.039854,
     "end_time": "2021-02-14T15:30:35.417773",
     "exception": false,
     "start_time": "2021-02-14T15:30:35.377919",
     "status": "completed"
    },
    "tags": []
   },
   "outputs": [
    {
     "data": {
      "text/plain": [
       "Semi-Auto    4666\n",
       "Automatic    3588\n",
       "Manual       2527\n",
       "Name: transmission, dtype: int64"
      ]
     },
     "execution_count": 7,
     "metadata": {},
     "output_type": "execute_result"
    }
   ],
   "source": [
    "df['transmission'].value_counts()"
   ]
  },
  {
   "cell_type": "code",
   "execution_count": 8,
   "metadata": {
    "execution": {
     "iopub.execute_input": "2021-02-14T15:30:35.471412Z",
     "iopub.status.busy": "2021-02-14T15:30:35.470700Z",
     "iopub.status.idle": "2021-02-14T15:30:35.480078Z",
     "shell.execute_reply": "2021-02-14T15:30:35.480608Z"
    },
    "papermill": {
     "duration": 0.03783,
     "end_time": "2021-02-14T15:30:35.480784",
     "exception": false,
     "start_time": "2021-02-14T15:30:35.442954",
     "status": "completed"
    },
    "tags": []
   },
   "outputs": [
    {
     "data": {
      "text/plain": [
       "Diesel      7027\n",
       "Petrol      3417\n",
       "Hybrid       298\n",
       "Other         36\n",
       "Electric       3\n",
       "Name: fuelType, dtype: int64"
      ]
     },
     "execution_count": 8,
     "metadata": {},
     "output_type": "execute_result"
    }
   ],
   "source": [
    "df['fuelType'].value_counts()"
   ]
  },
  {
   "cell_type": "code",
   "execution_count": 9,
   "metadata": {
    "execution": {
     "iopub.execute_input": "2021-02-14T15:30:35.534940Z",
     "iopub.status.busy": "2021-02-14T15:30:35.534330Z",
     "iopub.status.idle": "2021-02-14T15:30:35.544346Z",
     "shell.execute_reply": "2021-02-14T15:30:35.543794Z"
    },
    "papermill": {
     "duration": 0.038318,
     "end_time": "2021-02-14T15:30:35.544488",
     "exception": false,
     "start_time": "2021-02-14T15:30:35.506170",
     "status": "completed"
    },
    "tags": []
   },
   "outputs": [
    {
     "data": {
      "text/plain": [
       " 3 Series    2443\n",
       " 1 Series    1969\n",
       " 2 Series    1229\n",
       " 5 Series    1056\n",
       " 4 Series     995\n",
       " X1           804\n",
       " X3           551\n",
       " X5           468\n",
       " X2           288\n",
       " X4           179\n",
       " M4           125\n",
       " Z4           108\n",
       " 6 Series     108\n",
       " X6           106\n",
       " 7 Series     106\n",
       " X7            55\n",
       " i3            43\n",
       " 8 Series      39\n",
       " M5            29\n",
       " M3            27\n",
       " M2            21\n",
       " i8            17\n",
       " M6             8\n",
       " Z3             7\n",
       "Name: model, dtype: int64"
      ]
     },
     "execution_count": 9,
     "metadata": {},
     "output_type": "execute_result"
    }
   ],
   "source": [
    "df['model'].value_counts()"
   ]
  },
  {
   "cell_type": "markdown",
   "metadata": {
    "papermill": {
     "duration": 0.025852,
     "end_time": "2021-02-14T15:30:35.596304",
     "exception": false,
     "start_time": "2021-02-14T15:30:35.570452",
     "status": "completed"
    },
    "tags": []
   },
   "source": [
    "# Visualizing Data"
   ]
  },
  {
   "cell_type": "code",
   "execution_count": 10,
   "metadata": {
    "execution": {
     "iopub.execute_input": "2021-02-14T15:30:35.651842Z",
     "iopub.status.busy": "2021-02-14T15:30:35.651201Z",
     "iopub.status.idle": "2021-02-14T15:30:36.806732Z",
     "shell.execute_reply": "2021-02-14T15:30:36.806179Z"
    },
    "papermill": {
     "duration": 1.18449,
     "end_time": "2021-02-14T15:30:36.806890",
     "exception": false,
     "start_time": "2021-02-14T15:30:35.622400",
     "status": "completed"
    },
    "tags": []
   },
   "outputs": [
    {
     "data": {
      "image/png": "[encoded data removed]",
      "text/plain": [
       "<Figure size 864x720 with 2 Axes>"
      ]
     },
     "metadata": {
      "needs_background": "light"
     },
     "output_type": "display_data"
    }
   ],
   "source": [
    "import seaborn as sns \n",
    "import matplotlib.pyplot as plt \n",
    "plt.figure(figsize=(12,10))\n",
    "ax = sns.heatmap(df.corr())"
   ]
  },
  {
   "cell_type": "code",
   "execution_count": 11,
   "metadata": {
    "execution": {
     "iopub.execute_input": "2021-02-14T15:30:36.877811Z",
     "iopub.status.busy": "2021-02-14T15:30:36.876797Z",
     "iopub.status.idle": "2021-02-14T15:30:37.935670Z",
     "shell.execute_reply": "2021-02-14T15:30:37.934909Z"
    },
    "papermill": {
     "duration": 1.101984,
     "end_time": "2021-02-14T15:30:37.935846",
     "exception": false,
     "start_time": "2021-02-14T15:30:36.833862",
     "status": "completed"
    },
    "tags": []
   },
   "outputs": [
    {
     "name": "stderr",
     "output_type": "stream",
     "text": [
      "/opt/conda/lib/python3.7/site-packages/ipykernel_launcher.py:3: UserWarning: To output multiple subplots, the figure containing the passed axes is being cleared\n",
      "  This is separate from the ipykernel package so we can avoid doing imports until\n"
     ]
    },
    {
     "data": {
      "image/png": "[encoded data removed]",
      "text/plain": [
       "<Figure size 1440x1080 with 6 Axes>"
      ]
     },
     "metadata": {
      "needs_background": "light"
     },
     "output_type": "display_data"
    }
   ],
   "source": [
    "fig = plt.figure(figsize = (20,15))\n",
    "ax = fig.gca()\n",
    "df.hist(ax=ax)\n",
    "plt.show()"
   ]
  },
  {
   "cell_type": "markdown",
   "metadata": {
    "papermill": {
     "duration": 0.028508,
     "end_time": "2021-02-14T15:30:37.993487",
     "exception": false,
     "start_time": "2021-02-14T15:30:37.964979",
     "status": "completed"
    },
    "tags": []
   },
   "source": [
    "## One Hot Encoding "
   ]
  },
  {
   "cell_type": "code",
   "execution_count": 12,
   "metadata": {
    "execution": {
     "iopub.execute_input": "2021-02-14T15:30:38.055206Z",
     "iopub.status.busy": "2021-02-14T15:30:38.054203Z",
     "iopub.status.idle": "2021-02-14T15:30:38.071700Z",
     "shell.execute_reply": "2021-02-14T15:30:38.072217Z"
    },
    "papermill": {
     "duration": 0.050071,
     "end_time": "2021-02-14T15:30:38.072417",
     "exception": false,
     "start_time": "2021-02-14T15:30:38.022346",
     "status": "completed"
    },
    "tags": []
   },
   "outputs": [],
   "source": [
    "df = pd.get_dummies(data=df, columns=['model','transmission','fuelType'])"
   ]
  },
  {
   "cell_type": "code",
   "execution_count": 13,
   "metadata": {
    "execution": {
     "iopub.execute_input": "2021-02-14T15:30:38.134441Z",
     "iopub.status.busy": "2021-02-14T15:30:38.133487Z",
     "iopub.status.idle": "2021-02-14T15:30:38.138875Z",
     "shell.execute_reply": "2021-02-14T15:30:38.139459Z"
    },
    "papermill": {
     "duration": 0.03825,
     "end_time": "2021-02-14T15:30:38.139629",
     "exception": false,
     "start_time": "2021-02-14T15:30:38.101379",
     "status": "completed"
    },
    "tags": []
   },
   "outputs": [
    {
     "data": {
      "text/plain": [
       "(10781, 38)"
      ]
     },
     "execution_count": 13,
     "metadata": {},
     "output_type": "execute_result"
    }
   ],
   "source": [
    "df.shape"
   ]
  },
  {
   "cell_type": "markdown",
   "metadata": {
    "papermill": {
     "duration": 0.029444,
     "end_time": "2021-02-14T15:30:38.198862",
     "exception": false,
     "start_time": "2021-02-14T15:30:38.169418",
     "status": "completed"
    },
    "tags": []
   },
   "source": [
    "# Split Data "
   ]
  },
  {
   "cell_type": "code",
   "execution_count": 14,
   "metadata": {
    "execution": {
     "iopub.execute_input": "2021-02-14T15:30:38.261841Z",
     "iopub.status.busy": "2021-02-14T15:30:38.260845Z",
     "iopub.status.idle": "2021-02-14T15:30:38.268511Z",
     "shell.execute_reply": "2021-02-14T15:30:38.267931Z"
    },
    "papermill": {
     "duration": 0.040361,
     "end_time": "2021-02-14T15:30:38.268666",
     "exception": false,
     "start_time": "2021-02-14T15:30:38.228305",
     "status": "completed"
    },
    "tags": []
   },
   "outputs": [],
   "source": [
    "X = df.drop('price',axis=1)\n",
    "y = df['price']"
   ]
  },
  {
   "cell_type": "code",
   "execution_count": 15,
   "metadata": {
    "execution": {
     "iopub.execute_input": "2021-02-14T15:30:38.333099Z",
     "iopub.status.busy": "2021-02-14T15:30:38.332440Z",
     "iopub.status.idle": "2021-02-14T15:30:38.555345Z",
     "shell.execute_reply": "2021-02-14T15:30:38.554744Z"
    },
    "papermill": {
     "duration": 0.257136,
     "end_time": "2021-02-14T15:30:38.555491",
     "exception": false,
     "start_time": "2021-02-14T15:30:38.298355",
     "status": "completed"
    },
    "tags": []
   },
   "outputs": [],
   "source": [
    "from sklearn.model_selection import train_test_split\n",
    "X_train, X_test, y_train, y_test = train_test_split(\n",
    "     X, y, test_size=0.33)"
   ]
  },
  {
   "cell_type": "markdown",
   "metadata": {
    "papermill": {
     "duration": 0.029527,
     "end_time": "2021-02-14T15:30:38.614736",
     "exception": false,
     "start_time": "2021-02-14T15:30:38.585209",
     "status": "completed"
    },
    "tags": []
   },
   "source": [
    "# Model One-> Ridge"
   ]
  },
  {
   "cell_type": "code",
   "execution_count": 16,
   "metadata": {
    "execution": {
     "iopub.execute_input": "2021-02-14T15:30:38.678482Z",
     "iopub.status.busy": "2021-02-14T15:30:38.677832Z",
     "iopub.status.idle": "2021-02-14T15:30:38.767214Z",
     "shell.execute_reply": "2021-02-14T15:30:38.766655Z"
    },
    "papermill": {
     "duration": 0.123324,
     "end_time": "2021-02-14T15:30:38.767441",
     "exception": false,
     "start_time": "2021-02-14T15:30:38.644117",
     "status": "completed"
    },
    "tags": []
   },
   "outputs": [],
   "source": [
    "from sklearn.metrics import mean_squared_error as MSE \n",
    "from sklearn.linear_model import Ridge"
   ]
  },
  {
   "cell_type": "code",
   "execution_count": 17,
   "metadata": {
    "execution": {
     "iopub.execute_input": "2021-02-14T15:30:38.835241Z",
     "iopub.status.busy": "2021-02-14T15:30:38.834566Z",
     "iopub.status.idle": "2021-02-14T15:30:38.882797Z",
     "shell.execute_reply": "2021-02-14T15:30:38.883920Z"
    },
    "papermill": {
     "duration": 0.086291,
     "end_time": "2021-02-14T15:30:38.884240",
     "exception": false,
     "start_time": "2021-02-14T15:30:38.797949",
     "status": "completed"
    },
    "tags": []
   },
   "outputs": [
    {
     "data": {
      "text/plain": [
       "Ridge()"
      ]
     },
     "execution_count": 17,
     "metadata": {},
     "output_type": "execute_result"
    }
   ],
   "source": [
    "model_1 = Ridge(alpha=1.0)\n",
    "model_1.fit(X_train, y_train)"
   ]
  },
  {
   "cell_type": "code",
   "execution_count": 18,
   "metadata": {
    "execution": {
     "iopub.execute_input": "2021-02-14T15:30:38.999422Z",
     "iopub.status.busy": "2021-02-14T15:30:38.998270Z",
     "iopub.status.idle": "2021-02-14T15:30:39.005155Z",
     "shell.execute_reply": "2021-02-14T15:30:39.004497Z"
    },
    "papermill": {
     "duration": 0.064403,
     "end_time": "2021-02-14T15:30:39.005304",
     "exception": false,
     "start_time": "2021-02-14T15:30:38.940901",
     "status": "completed"
    },
    "tags": []
   },
   "outputs": [
    {
     "data": {
      "text/plain": [
       "0.8521892962136148"
      ]
     },
     "execution_count": 18,
     "metadata": {},
     "output_type": "execute_result"
    }
   ],
   "source": [
    "model_1.score(X_test,y_test)"
   ]
  },
  {
   "cell_type": "code",
   "execution_count": 19,
   "metadata": {
    "execution": {
     "iopub.execute_input": "2021-02-14T15:30:39.074696Z",
     "iopub.status.busy": "2021-02-14T15:30:39.073941Z",
     "iopub.status.idle": "2021-02-14T15:30:39.080658Z",
     "shell.execute_reply": "2021-02-14T15:30:39.080059Z"
    },
    "papermill": {
     "duration": 0.044553,
     "end_time": "2021-02-14T15:30:39.080893",
     "exception": false,
     "start_time": "2021-02-14T15:30:39.036340",
     "status": "completed"
    },
    "tags": []
   },
   "outputs": [
    {
     "data": {
      "text/plain": [
       "4388.041205168437"
      ]
     },
     "execution_count": 19,
     "metadata": {},
     "output_type": "execute_result"
    }
   ],
   "source": [
    "y_pred = model_1.predict(X_test) \n",
    "np.sqrt(MSE(y_test, y_pred)) "
   ]
  },
  {
   "cell_type": "markdown",
   "metadata": {
    "papermill": {
     "duration": 0.031683,
     "end_time": "2021-02-14T15:30:39.144205",
     "exception": false,
     "start_time": "2021-02-14T15:30:39.112522",
     "status": "completed"
    },
    "tags": []
   },
   "source": [
    "# Model Two -> Xgboost"
   ]
  },
  {
   "cell_type": "code",
   "execution_count": 20,
   "metadata": {
    "execution": {
     "iopub.execute_input": "2021-02-14T15:30:39.212947Z",
     "iopub.status.busy": "2021-02-14T15:30:39.212097Z",
     "iopub.status.idle": "2021-02-14T15:30:39.497385Z",
     "shell.execute_reply": "2021-02-14T15:30:39.496594Z"
    },
    "papermill": {
     "duration": 0.321139,
     "end_time": "2021-02-14T15:30:39.497619",
     "exception": false,
     "start_time": "2021-02-14T15:30:39.176480",
     "status": "completed"
    },
    "tags": []
   },
   "outputs": [],
   "source": [
    "import xgboost as xg "
   ]
  },
  {
   "cell_type": "code",
   "execution_count": 21,
   "metadata": {
    "execution": {
     "iopub.execute_input": "2021-02-14T15:30:39.568433Z",
     "iopub.status.busy": "2021-02-14T15:30:39.567225Z",
     "iopub.status.idle": "2021-02-14T15:30:39.681807Z",
     "shell.execute_reply": "2021-02-14T15:30:39.682341Z"
    },
    "papermill": {
     "duration": 0.153635,
     "end_time": "2021-02-14T15:30:39.682522",
     "exception": false,
     "start_time": "2021-02-14T15:30:39.528887",
     "status": "completed"
    },
    "tags": []
   },
   "outputs": [
    {
     "name": "stdout",
     "output_type": "stream",
     "text": [
      "[15:30:39] WARNING: ../src/objective/regression_obj.cu:170: reg:linear is now deprecated in favor of reg:squarederror.\n"
     ]
    },
    {
     "data": {
      "text/plain": [
       "XGBRegressor(base_score=0.5, booster='gbtree', colsample_bylevel=1,\n",
       "             colsample_bynode=1, colsample_bytree=1, gamma=0, gpu_id=-1,\n",
       "             importance_type='gain', interaction_constraints='',\n",
       "             learning_rate=0.300000012, max_delta_step=0, max_depth=6,\n",
       "             min_child_weight=1, missing=nan, monotone_constraints='()',\n",
       "             n_estimators=10, n_jobs=4, num_parallel_tree=1,\n",
       "             objective='reg:linear', random_state=123, reg_alpha=0,\n",
       "             reg_lambda=1, scale_pos_weight=1, seed=123, subsample=1,\n",
       "             tree_method='exact', validate_parameters=1, verbosity=None)"
      ]
     },
     "execution_count": 21,
     "metadata": {},
     "output_type": "execute_result"
    }
   ],
   "source": [
    "model_2 = xg.XGBRegressor(objective ='reg:linear', \n",
    "                  n_estimators = 10, seed = 123) \n",
    "  \n",
    "model_2.fit(X_train, y_train) \n"
   ]
  },
  {
   "cell_type": "code",
   "execution_count": 22,
   "metadata": {
    "execution": {
     "iopub.execute_input": "2021-02-14T15:30:39.753606Z",
     "iopub.status.busy": "2021-02-14T15:30:39.752768Z",
     "iopub.status.idle": "2021-02-14T15:30:39.765746Z",
     "shell.execute_reply": "2021-02-14T15:30:39.766368Z"
    },
    "papermill": {
     "duration": 0.052187,
     "end_time": "2021-02-14T15:30:39.766575",
     "exception": false,
     "start_time": "2021-02-14T15:30:39.714388",
     "status": "completed"
    },
    "tags": []
   },
   "outputs": [
    {
     "data": {
      "text/plain": [
       "0.9113866818341764"
      ]
     },
     "execution_count": 22,
     "metadata": {},
     "output_type": "execute_result"
    }
   ],
   "source": [
    "model_2.score(X_test,y_test)"
   ]
  },
  {
   "cell_type": "code",
   "execution_count": 23,
   "metadata": {
    "execution": {
     "iopub.execute_input": "2021-02-14T15:30:39.841794Z",
     "iopub.status.busy": "2021-02-14T15:30:39.841006Z",
     "iopub.status.idle": "2021-02-14T15:30:39.852574Z",
     "shell.execute_reply": "2021-02-14T15:30:39.853154Z"
    },
    "papermill": {
     "duration": 0.05263,
     "end_time": "2021-02-14T15:30:39.853367",
     "exception": false,
     "start_time": "2021-02-14T15:30:39.800737",
     "status": "completed"
    },
    "tags": []
   },
   "outputs": [
    {
     "data": {
      "text/plain": [
       "3397.5609331263104"
      ]
     },
     "execution_count": 23,
     "metadata": {},
     "output_type": "execute_result"
    }
   ],
   "source": [
    "y_pred = model_2.predict(X_test) \n",
    "  \n",
    "np.sqrt(MSE(y_test, y_pred)) "
   ]
  },
  {
   "cell_type": "markdown",
   "metadata": {
    "papermill": {
     "duration": 0.033907,
     "end_time": "2021-02-14T15:30:39.921654",
     "exception": false,
     "start_time": "2021-02-14T15:30:39.887747",
     "status": "completed"
    },
    "tags": []
   },
   "source": [
    "# Model Three -> ElasticNet"
   ]
  },
  {
   "cell_type": "code",
   "execution_count": 24,
   "metadata": {
    "execution": {
     "iopub.execute_input": "2021-02-14T15:30:39.997299Z",
     "iopub.status.busy": "2021-02-14T15:30:39.996049Z",
     "iopub.status.idle": "2021-02-14T15:30:40.031556Z",
     "shell.execute_reply": "2021-02-14T15:30:40.032603Z"
    },
    "papermill": {
     "duration": 0.077289,
     "end_time": "2021-02-14T15:30:40.032894",
     "exception": false,
     "start_time": "2021-02-14T15:30:39.955605",
     "status": "completed"
    },
    "tags": []
   },
   "outputs": [
    {
     "data": {
      "text/plain": [
       "ElasticNet(random_state=0)"
      ]
     },
     "execution_count": 24,
     "metadata": {},
     "output_type": "execute_result"
    }
   ],
   "source": [
    "from sklearn.linear_model import ElasticNet\n",
    "model_3 = ElasticNet(random_state=0)\n",
    "model_3.fit(X_train, y_train)"
   ]
  },
  {
   "cell_type": "code",
   "execution_count": 25,
   "metadata": {
    "execution": {
     "iopub.execute_input": "2021-02-14T15:30:40.154030Z",
     "iopub.status.busy": "2021-02-14T15:30:40.153385Z",
     "iopub.status.idle": "2021-02-14T15:30:40.158098Z",
     "shell.execute_reply": "2021-02-14T15:30:40.158586Z"
    },
    "papermill": {
     "duration": 0.06587,
     "end_time": "2021-02-14T15:30:40.158768",
     "exception": false,
     "start_time": "2021-02-14T15:30:40.092898",
     "status": "completed"
    },
    "tags": []
   },
   "outputs": [
    {
     "data": {
      "text/plain": [
       "7283.778520105231"
      ]
     },
     "execution_count": 25,
     "metadata": {},
     "output_type": "execute_result"
    }
   ],
   "source": [
    "y_pred = model_3.predict(X_test)   \n",
    "np.sqrt(MSE(y_test, y_pred)) "
   ]
  },
  {
   "cell_type": "markdown",
   "metadata": {
    "papermill": {
     "duration": 0.033685,
     "end_time": "2021-02-14T15:30:40.226774",
     "exception": false,
     "start_time": "2021-02-14T15:30:40.193089",
     "status": "completed"
    },
    "tags": []
   },
   "source": [
    "#  Model Four -> NN"
   ]
  },
  {
   "cell_type": "code",
   "execution_count": 26,
   "metadata": {
    "execution": {
     "iopub.execute_input": "2021-02-14T15:30:40.297819Z",
     "iopub.status.busy": "2021-02-14T15:30:40.297037Z",
     "iopub.status.idle": "2021-02-14T15:30:46.069749Z",
     "shell.execute_reply": "2021-02-14T15:30:46.069121Z"
    },
    "papermill": {
     "duration": 5.809391,
     "end_time": "2021-02-14T15:30:46.069917",
     "exception": false,
     "start_time": "2021-02-14T15:30:40.260526",
     "status": "completed"
    },
    "tags": []
   },
   "outputs": [],
   "source": [
    "from tensorflow.keras.models import Sequential\n",
    "from tensorflow.keras.layers import Dense,Dropout\n",
    "from tensorflow.keras.callbacks import EarlyStopping"
   ]
  },
  {
   "cell_type": "code",
   "execution_count": 27,
   "metadata": {
    "execution": {
     "iopub.execute_input": "2021-02-14T15:30:46.143959Z",
     "iopub.status.busy": "2021-02-14T15:30:46.143268Z",
     "iopub.status.idle": "2021-02-14T15:30:46.147040Z",
     "shell.execute_reply": "2021-02-14T15:30:46.146315Z"
    },
    "papermill": {
     "duration": 0.042916,
     "end_time": "2021-02-14T15:30:46.147235",
     "exception": false,
     "start_time": "2021-02-14T15:30:46.104319",
     "status": "completed"
    },
    "tags": []
   },
   "outputs": [],
   "source": [
    "early_stop = EarlyStopping(monitor='val_loss', mode='min', verbose=1, patience=25)"
   ]
  },
  {
   "cell_type": "code",
   "execution_count": 28,
   "metadata": {
    "execution": {
     "iopub.execute_input": "2021-02-14T15:30:46.220710Z",
     "iopub.status.busy": "2021-02-14T15:30:46.219993Z",
     "iopub.status.idle": "2021-02-14T15:30:46.280096Z",
     "shell.execute_reply": "2021-02-14T15:30:46.280742Z"
    },
    "papermill": {
     "duration": 0.098665,
     "end_time": "2021-02-14T15:30:46.280937",
     "exception": false,
     "start_time": "2021-02-14T15:30:46.182272",
     "status": "completed"
    },
    "tags": []
   },
   "outputs": [],
   "source": [
    "model = Sequential()\n",
    "\n",
    "model.add(Dense(38,activation='relu'))\n",
    "model.add(Dropout(0.5))\n",
    "model.add(Dense(1))\n",
    "model.compile(optimizer='adam',loss='mse')"
   ]
  },
  {
   "cell_type": "code",
   "execution_count": 29,
   "metadata": {
    "execution": {
     "iopub.execute_input": "2021-02-14T15:30:46.355825Z",
     "iopub.status.busy": "2021-02-14T15:30:46.355096Z",
     "iopub.status.idle": "2021-02-14T15:34:24.354512Z",
     "shell.execute_reply": "2021-02-14T15:34:24.353837Z"
    },
    "papermill": {
     "duration": 218.039186,
     "end_time": "2021-02-14T15:34:24.354681",
     "exception": false,
     "start_time": "2021-02-14T15:30:46.315495",
     "status": "completed"
    },
    "tags": []
   },
   "outputs": [
    {
     "name": "stdout",
     "output_type": "stream",
     "text": [
      "Epoch 1/600\n",
      "226/226 [==============================] - 1s 4ms/step - loss: 555846765.5330 - val_loss: 443057888.0000\n",
      "Epoch 2/600\n",
      "226/226 [==============================] - 0s 2ms/step - loss: 409419189.1454 - val_loss: 305507456.0000\n",
      "Epoch 3/600\n",
      "226/226 [==============================] - 0s 2ms/step - loss: 281819641.0925 - val_loss: 176316704.0000\n",
      "Epoch 4/600\n",
      "226/226 [==============================] - 0s 2ms/step - loss: 180851012.2291 - val_loss: 111261504.0000\n",
      "Epoch 5/600\n",
      "226/226 [==============================] - 0s 2ms/step - loss: 126551164.9692 - val_loss: 88195424.0000\n",
      "Epoch 6/600\n",
      "226/226 [==============================] - 0s 2ms/step - loss: 122542913.5154 - val_loss: 80518176.0000\n",
      "Epoch 7/600\n",
      "226/226 [==============================] - 0s 2ms/step - loss: 115682756.9339 - val_loss: 78337544.0000\n",
      "Epoch 8/600\n",
      "226/226 [==============================] - 0s 2ms/step - loss: 105871660.0881 - val_loss: 76402024.0000\n",
      "Epoch 9/600\n",
      "226/226 [==============================] - 0s 2ms/step - loss: 107585998.4493 - val_loss: 77164736.0000\n",
      "Epoch 10/600\n",
      "226/226 [==============================] - 0s 2ms/step - loss: 111813137.9383 - val_loss: 75593528.0000\n",
      "Epoch 11/600\n",
      "226/226 [==============================] - 0s 2ms/step - loss: 108445059.8414 - val_loss: 75597720.0000\n",
      "Epoch 12/600\n",
      "226/226 [==============================] - 0s 2ms/step - loss: 107958506.2555 - val_loss: 75364368.0000\n",
      "Epoch 13/600\n",
      "226/226 [==============================] - 0s 2ms/step - loss: 108792709.1101 - val_loss: 74379080.0000\n",
      "Epoch 14/600\n",
      "226/226 [==============================] - 0s 2ms/step - loss: 109746345.0044 - val_loss: 76756112.0000\n",
      "Epoch 15/600\n",
      "226/226 [==============================] - 0s 2ms/step - loss: 106636940.3700 - val_loss: 74254752.0000\n",
      "Epoch 16/600\n",
      "226/226 [==============================] - 0s 2ms/step - loss: 101189296.7048 - val_loss: 75328032.0000\n",
      "Epoch 17/600\n",
      "226/226 [==============================] - 0s 2ms/step - loss: 101279884.1233 - val_loss: 75865152.0000\n",
      "Epoch 18/600\n",
      "226/226 [==============================] - 0s 2ms/step - loss: 107723339.8062 - val_loss: 74833624.0000\n",
      "Epoch 19/600\n",
      "226/226 [==============================] - 0s 2ms/step - loss: 101762403.7181 - val_loss: 74719736.0000\n",
      "Epoch 20/600\n",
      "226/226 [==============================] - 0s 2ms/step - loss: 100790745.6035 - val_loss: 73914296.0000\n",
      "Epoch 21/600\n",
      "226/226 [==============================] - 0s 2ms/step - loss: 102886588.1586 - val_loss: 73326880.0000\n",
      "Epoch 22/600\n",
      "226/226 [==============================] - 0s 2ms/step - loss: 100375828.2643 - val_loss: 74067752.0000\n",
      "Epoch 23/600\n",
      "226/226 [==============================] - 0s 2ms/step - loss: 100149983.6123 - val_loss: 76466088.0000\n",
      "Epoch 24/600\n",
      "226/226 [==============================] - 0s 2ms/step - loss: 99574543.0661 - val_loss: 73634704.0000\n",
      "Epoch 25/600\n",
      "226/226 [==============================] - 0s 2ms/step - loss: 104650398.4493 - val_loss: 74036016.0000\n",
      "Epoch 26/600\n",
      "226/226 [==============================] - 0s 2ms/step - loss: 98462104.4229 - val_loss: 73955800.0000\n",
      "Epoch 27/600\n",
      "226/226 [==============================] - 0s 2ms/step - loss: 106259205.4273 - val_loss: 76213512.0000\n",
      "Epoch 28/600\n",
      "226/226 [==============================] - 0s 2ms/step - loss: 98241097.6564 - val_loss: 74710528.0000\n",
      "Epoch 29/600\n",
      "226/226 [==============================] - 0s 2ms/step - loss: 103832449.3392 - val_loss: 73036776.0000\n",
      "Epoch 30/600\n",
      "226/226 [==============================] - 0s 2ms/step - loss: 103926929.4802 - val_loss: 74501176.0000\n",
      "Epoch 31/600\n",
      "226/226 [==============================] - 0s 2ms/step - loss: 103893887.1366 - val_loss: 73389296.0000\n",
      "Epoch 32/600\n",
      "226/226 [==============================] - 0s 2ms/step - loss: 94373553.6211 - val_loss: 72323928.0000\n",
      "Epoch 33/600\n",
      "226/226 [==============================] - 0s 2ms/step - loss: 102834765.4626 - val_loss: 74937368.0000\n",
      "Epoch 34/600\n",
      "226/226 [==============================] - 0s 2ms/step - loss: 98500668.5110 - val_loss: 73534584.0000\n",
      "Epoch 35/600\n",
      "226/226 [==============================] - 0s 2ms/step - loss: 95276329.7093 - val_loss: 73762856.0000\n",
      "Epoch 36/600\n",
      "226/226 [==============================] - 0s 2ms/step - loss: 96168612.3348 - val_loss: 73492584.0000\n",
      "Epoch 37/600\n",
      "226/226 [==============================] - 0s 2ms/step - loss: 98692450.5727 - val_loss: 74341744.0000\n",
      "Epoch 38/600\n",
      "226/226 [==============================] - 0s 2ms/step - loss: 102097602.8370 - val_loss: 73248336.0000\n",
      "Epoch 39/600\n",
      "226/226 [==============================] - 0s 2ms/step - loss: 97520769.1806 - val_loss: 73866664.0000\n",
      "Epoch 40/600\n",
      "226/226 [==============================] - 0s 2ms/step - loss: 100863924.2996 - val_loss: 73502848.0000\n",
      "Epoch 41/600\n",
      "226/226 [==============================] - 0s 2ms/step - loss: 101824047.6476 - val_loss: 73574440.0000\n",
      "Epoch 42/600\n",
      "226/226 [==============================] - 0s 2ms/step - loss: 102003507.2423 - val_loss: 72989768.0000\n",
      "Epoch 43/600\n",
      "226/226 [==============================] - 0s 2ms/step - loss: 97006099.5242 - val_loss: 72941264.0000\n",
      "Epoch 44/600\n",
      "226/226 [==============================] - 0s 2ms/step - loss: 98374251.5242 - val_loss: 72993352.0000\n",
      "Epoch 45/600\n",
      "226/226 [==============================] - 0s 2ms/step - loss: 95179885.4273 - val_loss: 72810992.0000\n",
      "Epoch 46/600\n",
      "226/226 [==============================] - 0s 2ms/step - loss: 101207241.0925 - val_loss: 72701944.0000\n",
      "Epoch 47/600\n",
      "226/226 [==============================] - 0s 2ms/step - loss: 94161225.3392 - val_loss: 71911248.0000\n",
      "Epoch 48/600\n",
      "226/226 [==============================] - 0s 2ms/step - loss: 102909753.1630 - val_loss: 71966776.0000\n",
      "Epoch 49/600\n",
      "226/226 [==============================] - 0s 2ms/step - loss: 102793150.6256 - val_loss: 74680768.0000\n",
      "Epoch 50/600\n",
      "226/226 [==============================] - 0s 2ms/step - loss: 94264910.8370 - val_loss: 73358736.0000\n",
      "Epoch 51/600\n",
      "226/226 [==============================] - 0s 2ms/step - loss: 99802100.6520 - val_loss: 74386888.0000\n",
      "Epoch 52/600\n",
      "226/226 [==============================] - 0s 2ms/step - loss: 97726026.0793 - val_loss: 73916328.0000\n",
      "Epoch 53/600\n",
      "226/226 [==============================] - 0s 2ms/step - loss: 107185334.0264 - val_loss: 73687848.0000\n",
      "Epoch 54/600\n",
      "226/226 [==============================] - 0s 2ms/step - loss: 92265818.7489 - val_loss: 72230008.0000\n",
      "Epoch 55/600\n",
      "226/226 [==============================] - 0s 2ms/step - loss: 99685459.3833 - val_loss: 70821912.0000\n",
      "Epoch 56/600\n",
      "226/226 [==============================] - 0s 2ms/step - loss: 97452868.5463 - val_loss: 71462488.0000\n",
      "Epoch 57/600\n",
      "226/226 [==============================] - 0s 2ms/step - loss: 100515645.5683 - val_loss: 73772136.0000\n",
      "Epoch 58/600\n",
      "226/226 [==============================] - 0s 2ms/step - loss: 92331406.1674 - val_loss: 71588896.0000\n",
      "Epoch 59/600\n",
      "226/226 [==============================] - 0s 2ms/step - loss: 97587009.2687 - val_loss: 71454368.0000\n",
      "Epoch 60/600\n",
      "226/226 [==============================] - 0s 2ms/step - loss: 96069802.3084 - val_loss: 72996912.0000\n",
      "Epoch 61/600\n",
      "226/226 [==============================] - 0s 2ms/step - loss: 101642182.1322 - val_loss: 72710304.0000\n",
      "Epoch 62/600\n",
      "226/226 [==============================] - 0s 2ms/step - loss: 96040393.3392 - val_loss: 71809736.0000\n",
      "Epoch 63/600\n",
      "226/226 [==============================] - 0s 2ms/step - loss: 97168291.4890 - val_loss: 71959536.0000\n",
      "Epoch 64/600\n",
      "226/226 [==============================] - 0s 2ms/step - loss: 94850328.8811 - val_loss: 71685048.0000\n",
      "Epoch 65/600\n",
      "226/226 [==============================] - 0s 2ms/step - loss: 100939275.8062 - val_loss: 72287872.0000\n",
      "Epoch 66/600\n",
      "226/226 [==============================] - 0s 2ms/step - loss: 97701538.2203 - val_loss: 71049112.0000\n",
      "Epoch 67/600\n",
      "226/226 [==============================] - 0s 2ms/step - loss: 96670339.9471 - val_loss: 71739488.0000\n",
      "Epoch 68/600\n",
      "226/226 [==============================] - 0s 2ms/step - loss: 98248906.9956 - val_loss: 71681416.0000\n",
      "Epoch 69/600\n",
      "226/226 [==============================] - 0s 2ms/step - loss: 97168577.4097 - val_loss: 71112888.0000\n",
      "Epoch 70/600\n",
      "226/226 [==============================] - 0s 2ms/step - loss: 94667926.8370 - val_loss: 71270912.0000\n",
      "Epoch 71/600\n",
      "226/226 [==============================] - 0s 2ms/step - loss: 97208532.5463 - val_loss: 71526008.0000\n",
      "Epoch 72/600\n",
      "226/226 [==============================] - 0s 2ms/step - loss: 96427970.2907 - val_loss: 71625840.0000\n",
      "Epoch 73/600\n",
      "226/226 [==============================] - 0s 2ms/step - loss: 99858904.7401 - val_loss: 71653032.0000\n",
      "Epoch 74/600\n",
      "226/226 [==============================] - 0s 2ms/step - loss: 95702484.7225 - val_loss: 70746072.0000\n",
      "Epoch 75/600\n",
      "226/226 [==============================] - 0s 2ms/step - loss: 97302680.2115 - val_loss: 70503224.0000\n",
      "Epoch 76/600\n",
      "226/226 [==============================] - 0s 2ms/step - loss: 100075280.3524 - val_loss: 71844728.0000\n",
      "Epoch 77/600\n",
      "226/226 [==============================] - 0s 2ms/step - loss: 92571932.1410 - val_loss: 72544800.0000\n",
      "Epoch 78/600\n",
      "226/226 [==============================] - 0s 2ms/step - loss: 94698824.1762 - val_loss: 73013808.0000\n",
      "Epoch 79/600\n",
      "226/226 [==============================] - 0s 2ms/step - loss: 94661703.4361 - val_loss: 71991624.0000\n",
      "Epoch 80/600\n",
      "226/226 [==============================] - 0s 2ms/step - loss: 98227903.8590 - val_loss: 71533288.0000\n",
      "Epoch 81/600\n",
      "226/226 [==============================] - 0s 2ms/step - loss: 100627509.2511 - val_loss: 72076304.0000\n",
      "Epoch 82/600\n",
      "226/226 [==============================] - 0s 2ms/step - loss: 103750530.7489 - val_loss: 71470472.0000\n",
      "Epoch 83/600\n",
      "226/226 [==============================] - 0s 2ms/step - loss: 98930259.7357 - val_loss: 70913320.0000\n",
      "Epoch 84/600\n",
      "226/226 [==============================] - 0s 2ms/step - loss: 94486301.3216 - val_loss: 71684968.0000\n",
      "Epoch 85/600\n",
      "226/226 [==============================] - 0s 2ms/step - loss: 99532080.7048 - val_loss: 71579296.0000\n",
      "Epoch 86/600\n",
      "226/226 [==============================] - 0s 2ms/step - loss: 96463163.3480 - val_loss: 70845584.0000\n",
      "Epoch 87/600\n",
      "226/226 [==============================] - 0s 2ms/step - loss: 94452980.8987 - val_loss: 70834112.0000\n",
      "Epoch 88/600\n",
      "226/226 [==============================] - 0s 2ms/step - loss: 101764706.6079 - val_loss: 72219248.0000\n",
      "Epoch 89/600\n",
      "226/226 [==============================] - 0s 2ms/step - loss: 99579410.9956 - val_loss: 71738272.0000\n",
      "Epoch 90/600\n",
      "226/226 [==============================] - 0s 2ms/step - loss: 97508623.4890 - val_loss: 72017408.0000\n",
      "Epoch 91/600\n",
      "226/226 [==============================] - 0s 2ms/step - loss: 99332829.2863 - val_loss: 70668512.0000\n",
      "Epoch 92/600\n",
      "226/226 [==============================] - 0s 2ms/step - loss: 94603917.6740 - val_loss: 70941416.0000\n",
      "Epoch 93/600\n",
      "226/226 [==============================] - 0s 2ms/step - loss: 99896295.7181 - val_loss: 69988856.0000\n",
      "Epoch 94/600\n",
      "226/226 [==============================] - 0s 2ms/step - loss: 103639154.9956 - val_loss: 71231856.0000\n",
      "Epoch 95/600\n",
      "226/226 [==============================] - 0s 2ms/step - loss: 101098585.9736 - val_loss: 70635128.0000\n",
      "Epoch 96/600\n",
      "226/226 [==============================] - 0s 2ms/step - loss: 94872058.9427 - val_loss: 71232352.0000\n",
      "Epoch 97/600\n",
      "226/226 [==============================] - 0s 2ms/step - loss: 94203922.2907 - val_loss: 71239200.0000\n",
      "Epoch 98/600\n",
      "226/226 [==============================] - 0s 2ms/step - loss: 97593918.2907 - val_loss: 70323400.0000\n",
      "Epoch 99/600\n",
      "226/226 [==============================] - 0s 2ms/step - loss: 103216607.4009 - val_loss: 69994624.0000\n",
      "Epoch 100/600\n",
      "226/226 [==============================] - 0s 2ms/step - loss: 96918350.8722 - val_loss: 71112256.0000\n",
      "Epoch 101/600\n",
      "226/226 [==============================] - 0s 2ms/step - loss: 96968927.0837 - val_loss: 71436096.0000\n",
      "Epoch 102/600\n",
      "226/226 [==============================] - 0s 2ms/step - loss: 101742238.7313 - val_loss: 72026792.0000\n",
      "Epoch 103/600\n",
      "226/226 [==============================] - 0s 2ms/step - loss: 98215156.6872 - val_loss: 69532808.0000\n",
      "Epoch 104/600\n",
      "226/226 [==============================] - 0s 2ms/step - loss: 97933041.3744 - val_loss: 69699144.0000\n",
      "Epoch 105/600\n",
      "226/226 [==============================] - 0s 2ms/step - loss: 92774071.7533 - val_loss: 70520552.0000\n",
      "Epoch 106/600\n",
      "226/226 [==============================] - 0s 2ms/step - loss: 106892098.7137 - val_loss: 70006264.0000\n",
      "Epoch 107/600\n",
      "226/226 [==============================] - 0s 2ms/step - loss: 90367888.9515 - val_loss: 70573480.0000\n",
      "Epoch 108/600\n",
      "226/226 [==============================] - 0s 2ms/step - loss: 95466240.8106 - val_loss: 69925432.0000\n",
      "Epoch 109/600\n",
      "226/226 [==============================] - 0s 2ms/step - loss: 94199669.9912 - val_loss: 70443512.0000\n",
      "Epoch 110/600\n",
      "226/226 [==============================] - 0s 2ms/step - loss: 100308656.4581 - val_loss: 69972520.0000\n",
      "Epoch 111/600\n",
      "226/226 [==============================] - 0s 2ms/step - loss: 93687364.4405 - val_loss: 68937040.0000\n",
      "Epoch 112/600\n",
      "226/226 [==============================] - 0s 2ms/step - loss: 94731931.7357 - val_loss: 69463728.0000\n",
      "Epoch 113/600\n",
      "226/226 [==============================] - 0s 2ms/step - loss: 96739702.1322 - val_loss: 69184720.0000\n",
      "Epoch 114/600\n",
      "226/226 [==============================] - 0s 2ms/step - loss: 99050693.0044 - val_loss: 68853184.0000\n",
      "Epoch 115/600\n",
      "226/226 [==============================] - 0s 2ms/step - loss: 97118502.4493 - val_loss: 68730752.0000\n",
      "Epoch 116/600\n",
      "226/226 [==============================] - 0s 2ms/step - loss: 95243434.7841 - val_loss: 69890016.0000\n",
      "Epoch 117/600\n",
      "226/226 [==============================] - 0s 2ms/step - loss: 99095372.1233 - val_loss: 69780096.0000\n",
      "Epoch 118/600\n",
      "226/226 [==============================] - 0s 2ms/step - loss: 104225012.2996 - val_loss: 69630160.0000\n",
      "Epoch 119/600\n",
      "226/226 [==============================] - 0s 2ms/step - loss: 97562534.9780 - val_loss: 72528360.0000\n",
      "Epoch 120/600\n",
      "226/226 [==============================] - 0s 2ms/step - loss: 94115578.6432 - val_loss: 70572696.0000\n",
      "Epoch 121/600\n",
      "226/226 [==============================] - 0s 2ms/step - loss: 96063398.9075 - val_loss: 68309400.0000\n",
      "Epoch 122/600\n",
      "226/226 [==============================] - 0s 2ms/step - loss: 94154585.9383 - val_loss: 68452672.0000\n",
      "Epoch 123/600\n",
      "226/226 [==============================] - 0s 2ms/step - loss: 95500812.6167 - val_loss: 68483736.0000\n",
      "Epoch 124/600\n",
      "226/226 [==============================] - 0s 2ms/step - loss: 96507210.7841 - val_loss: 68793096.0000\n",
      "Epoch 125/600\n",
      "226/226 [==============================] - 0s 2ms/step - loss: 93561469.3568 - val_loss: 68096464.0000\n",
      "Epoch 126/600\n",
      "226/226 [==============================] - 0s 2ms/step - loss: 102454005.3216 - val_loss: 68834440.0000\n",
      "Epoch 127/600\n",
      "226/226 [==============================] - 0s 2ms/step - loss: 98933092.3348 - val_loss: 70494736.0000\n",
      "Epoch 128/600\n",
      "226/226 [==============================] - 0s 2ms/step - loss: 91387143.6828 - val_loss: 69469824.0000\n",
      "Epoch 129/600\n",
      "226/226 [==============================] - 0s 2ms/step - loss: 96677290.1145 - val_loss: 68711992.0000\n",
      "Epoch 130/600\n",
      "226/226 [==============================] - 0s 2ms/step - loss: 86597926.6960 - val_loss: 68569176.0000\n",
      "Epoch 131/600\n",
      "226/226 [==============================] - 0s 2ms/step - loss: 95352908.0176 - val_loss: 67909912.0000\n",
      "Epoch 132/600\n",
      "226/226 [==============================] - 0s 2ms/step - loss: 90022700.4758 - val_loss: 68422640.0000\n",
      "Epoch 133/600\n",
      "226/226 [==============================] - 0s 2ms/step - loss: 98010598.4141 - val_loss: 70083104.0000\n",
      "Epoch 134/600\n",
      "226/226 [==============================] - 0s 2ms/step - loss: 100029461.7797 - val_loss: 69471104.0000\n",
      "Epoch 135/600\n",
      "226/226 [==============================] - 0s 2ms/step - loss: 91234328.7225 - val_loss: 67880272.0000\n",
      "Epoch 136/600\n",
      "226/226 [==============================] - 0s 2ms/step - loss: 93099514.9251 - val_loss: 69537616.0000\n",
      "Epoch 137/600\n",
      "226/226 [==============================] - 0s 2ms/step - loss: 95019859.4714 - val_loss: 67943120.0000\n",
      "Epoch 138/600\n",
      "226/226 [==============================] - 0s 2ms/step - loss: 90270816.4934 - val_loss: 68470376.0000\n",
      "Epoch 139/600\n",
      "226/226 [==============================] - 0s 2ms/step - loss: 93902426.6784 - val_loss: 68162864.0000\n",
      "Epoch 140/600\n",
      "226/226 [==============================] - 0s 2ms/step - loss: 90400563.7357 - val_loss: 67353192.0000\n",
      "Epoch 141/600\n",
      "226/226 [==============================] - 0s 2ms/step - loss: 91690650.0793 - val_loss: 66526800.0000\n",
      "Epoch 142/600\n",
      "226/226 [==============================] - 0s 2ms/step - loss: 94027995.8590 - val_loss: 67307592.0000\n",
      "Epoch 143/600\n",
      "226/226 [==============================] - 0s 2ms/step - loss: 96252968.9515 - val_loss: 66930192.0000\n",
      "Epoch 144/600\n",
      "226/226 [==============================] - 0s 2ms/step - loss: 91066745.5154 - val_loss: 69052264.0000\n",
      "Epoch 145/600\n",
      "226/226 [==============================] - 0s 2ms/step - loss: 96447006.9075 - val_loss: 67287720.0000\n",
      "Epoch 146/600\n",
      "226/226 [==============================] - 0s 2ms/step - loss: 98262253.1101 - val_loss: 67354968.0000\n",
      "Epoch 147/600\n",
      "226/226 [==============================] - 0s 2ms/step - loss: 94814936.9339 - val_loss: 69603928.0000\n",
      "Epoch 148/600\n",
      "226/226 [==============================] - 0s 2ms/step - loss: 91550603.3833 - val_loss: 67757472.0000\n",
      "Epoch 149/600\n",
      "226/226 [==============================] - 0s 2ms/step - loss: 92682689.4097 - val_loss: 67253624.0000\n",
      "Epoch 150/600\n",
      "226/226 [==============================] - 0s 2ms/step - loss: 92443284.3700 - val_loss: 67090200.0000\n",
      "Epoch 151/600\n",
      "226/226 [==============================] - 0s 2ms/step - loss: 96279548.2467 - val_loss: 67960168.0000\n",
      "Epoch 152/600\n",
      "226/226 [==============================] - 0s 2ms/step - loss: 90238306.0088 - val_loss: 68566600.0000\n",
      "Epoch 153/600\n",
      "226/226 [==============================] - 0s 2ms/step - loss: 96169393.0044 - val_loss: 69001560.0000\n",
      "Epoch 154/600\n",
      "226/226 [==============================] - 0s 2ms/step - loss: 93037494.1674 - val_loss: 65876392.0000\n",
      "Epoch 155/600\n",
      "226/226 [==============================] - 0s 2ms/step - loss: 99422516.7225 - val_loss: 67715336.0000\n",
      "Epoch 156/600\n",
      "226/226 [==============================] - 0s 2ms/step - loss: 95168437.7093 - val_loss: 67119080.0000\n",
      "Epoch 157/600\n",
      "226/226 [==============================] - 0s 2ms/step - loss: 95568200.6696 - val_loss: 66118144.0000\n",
      "Epoch 158/600\n",
      "226/226 [==============================] - 0s 2ms/step - loss: 88788026.6432 - val_loss: 65675672.0000\n",
      "Epoch 159/600\n",
      "226/226 [==============================] - 0s 2ms/step - loss: 97865385.5154 - val_loss: 66632308.0000\n",
      "Epoch 160/600\n",
      "226/226 [==============================] - 0s 2ms/step - loss: 88363934.9780 - val_loss: 66189484.0000\n",
      "Epoch 161/600\n",
      "226/226 [==============================] - 0s 2ms/step - loss: 93625773.6388 - val_loss: 67031912.0000\n",
      "Epoch 162/600\n",
      "226/226 [==============================] - 0s 2ms/step - loss: 90576662.7313 - val_loss: 66220644.0000\n",
      "Epoch 163/600\n",
      "226/226 [==============================] - 0s 2ms/step - loss: 93983765.1806 - val_loss: 66680172.0000\n",
      "Epoch 164/600\n",
      "226/226 [==============================] - 0s 2ms/step - loss: 89110466.1322 - val_loss: 66856944.0000\n",
      "Epoch 165/600\n",
      "226/226 [==============================] - 0s 2ms/step - loss: 91693230.0264 - val_loss: 65594204.0000\n",
      "Epoch 166/600\n",
      "226/226 [==============================] - 0s 2ms/step - loss: 94018023.9295 - val_loss: 68022664.0000\n",
      "Epoch 167/600\n",
      "226/226 [==============================] - 0s 2ms/step - loss: 90503545.5154 - val_loss: 67056340.0000\n",
      "Epoch 168/600\n",
      "226/226 [==============================] - 0s 2ms/step - loss: 90387370.1498 - val_loss: 66953332.0000\n",
      "Epoch 169/600\n",
      "226/226 [==============================] - 0s 2ms/step - loss: 89587364.7225 - val_loss: 66041896.0000\n",
      "Epoch 170/600\n",
      "226/226 [==============================] - 0s 2ms/step - loss: 94420949.0749 - val_loss: 66816108.0000\n",
      "Epoch 171/600\n",
      "226/226 [==============================] - 0s 2ms/step - loss: 91523795.8590 - val_loss: 68806728.0000\n",
      "Epoch 172/600\n",
      "226/226 [==============================] - 0s 2ms/step - loss: 89704244.6167 - val_loss: 66240560.0000\n",
      "Epoch 173/600\n",
      "226/226 [==============================] - 0s 2ms/step - loss: 91159298.3612 - val_loss: 65279744.0000\n",
      "Epoch 174/600\n",
      "226/226 [==============================] - 0s 2ms/step - loss: 98312873.5154 - val_loss: 65806376.0000\n",
      "Epoch 175/600\n",
      "226/226 [==============================] - 0s 2ms/step - loss: 95604176.6167 - val_loss: 64830320.0000\n",
      "Epoch 176/600\n",
      "226/226 [==============================] - 0s 2ms/step - loss: 92610077.1101 - val_loss: 65082560.0000\n",
      "Epoch 177/600\n",
      "226/226 [==============================] - 0s 2ms/step - loss: 93379061.1101 - val_loss: 64913124.0000\n",
      "Epoch 178/600\n",
      "226/226 [==============================] - 0s 2ms/step - loss: 91480585.2687 - val_loss: 67184656.0000\n",
      "Epoch 179/600\n",
      "226/226 [==============================] - 0s 2ms/step - loss: 90923223.2599 - val_loss: 66348628.0000\n",
      "Epoch 180/600\n",
      "226/226 [==============================] - 0s 2ms/step - loss: 86730717.9383 - val_loss: 65434260.0000\n",
      "Epoch 181/600\n",
      "226/226 [==============================] - 0s 2ms/step - loss: 91891036.0176 - val_loss: 65734372.0000\n",
      "Epoch 182/600\n",
      "226/226 [==============================] - 0s 2ms/step - loss: 90504360.1057 - val_loss: 65015724.0000\n",
      "Epoch 183/600\n",
      "226/226 [==============================] - 0s 2ms/step - loss: 88791805.3216 - val_loss: 64165160.0000\n",
      "Epoch 184/600\n",
      "226/226 [==============================] - 0s 2ms/step - loss: 87967740.5991 - val_loss: 64169728.0000\n",
      "Epoch 185/600\n",
      "226/226 [==============================] - 0s 2ms/step - loss: 91211087.9648 - val_loss: 63586124.0000\n",
      "Epoch 186/600\n",
      "226/226 [==============================] - 0s 2ms/step - loss: 86557955.7709 - val_loss: 64556216.0000\n",
      "Epoch 187/600\n",
      "226/226 [==============================] - 0s 2ms/step - loss: 90257252.8458 - val_loss: 62769656.0000\n",
      "Epoch 188/600\n",
      "226/226 [==============================] - 0s 2ms/step - loss: 84068855.1366 - val_loss: 65870016.0000\n",
      "Epoch 189/600\n",
      "226/226 [==============================] - 0s 2ms/step - loss: 90000444.5110 - val_loss: 63885844.0000\n",
      "Epoch 190/600\n",
      "226/226 [==============================] - 0s 2ms/step - loss: 88909928.9515 - val_loss: 64145000.0000\n",
      "Epoch 191/600\n",
      "226/226 [==============================] - 0s 2ms/step - loss: 84796345.3040 - val_loss: 62979516.0000\n",
      "Epoch 192/600\n",
      "226/226 [==============================] - 0s 2ms/step - loss: 87849227.3833 - val_loss: 62919624.0000\n",
      "Epoch 193/600\n",
      "226/226 [==============================] - 0s 2ms/step - loss: 91756569.7269 - val_loss: 63628076.0000\n",
      "Epoch 194/600\n",
      "226/226 [==============================] - 0s 2ms/step - loss: 90863172.1938 - val_loss: 62704248.0000\n",
      "Epoch 195/600\n",
      "226/226 [==============================] - 0s 2ms/step - loss: 87904727.4361 - val_loss: 63150780.0000\n",
      "Epoch 196/600\n",
      "226/226 [==============================] - 0s 2ms/step - loss: 90632855.6828 - val_loss: 65775688.0000\n",
      "Epoch 197/600\n",
      "226/226 [==============================] - 0s 2ms/step - loss: 94055226.9427 - val_loss: 63638004.0000\n",
      "Epoch 198/600\n",
      "226/226 [==============================] - 0s 2ms/step - loss: 80482290.4493 - val_loss: 61146132.0000\n",
      "Epoch 199/600\n",
      "226/226 [==============================] - 0s 2ms/step - loss: 85681211.7709 - val_loss: 62249484.0000\n",
      "Epoch 200/600\n",
      "226/226 [==============================] - 0s 2ms/step - loss: 88681531.3128 - val_loss: 62087320.0000\n",
      "Epoch 201/600\n",
      "226/226 [==============================] - 0s 2ms/step - loss: 83027465.1278 - val_loss: 62022192.0000\n",
      "Epoch 202/600\n",
      "226/226 [==============================] - 0s 2ms/step - loss: 90052619.6300 - val_loss: 63745172.0000\n",
      "Epoch 203/600\n",
      "226/226 [==============================] - 0s 2ms/step - loss: 85046825.7974 - val_loss: 60904256.0000\n",
      "Epoch 204/600\n",
      "226/226 [==============================] - 0s 2ms/step - loss: 88088285.7797 - val_loss: 60490928.0000\n",
      "Epoch 205/600\n",
      "226/226 [==============================] - 0s 2ms/step - loss: 88869106.9604 - val_loss: 60912612.0000\n",
      "Epoch 206/600\n",
      "226/226 [==============================] - 0s 2ms/step - loss: 86237238.3789 - val_loss: 60434340.0000\n",
      "Epoch 207/600\n",
      "226/226 [==============================] - 0s 2ms/step - loss: 88471305.0220 - val_loss: 60349240.0000\n",
      "Epoch 208/600\n",
      "226/226 [==============================] - 0s 2ms/step - loss: 88983790.7137 - val_loss: 60125176.0000\n",
      "Epoch 209/600\n",
      "226/226 [==============================] - 0s 2ms/step - loss: 85003200.8811 - val_loss: 59585216.0000\n",
      "Epoch 210/600\n",
      "226/226 [==============================] - 0s 2ms/step - loss: 90478939.5595 - val_loss: 60655100.0000\n",
      "Epoch 211/600\n",
      "226/226 [==============================] - 0s 2ms/step - loss: 83066965.7797 - val_loss: 59260692.0000\n",
      "Epoch 212/600\n",
      "226/226 [==============================] - 0s 2ms/step - loss: 80089282.1322 - val_loss: 58717392.0000\n",
      "Epoch 213/600\n",
      "226/226 [==============================] - 0s 2ms/step - loss: 87994330.3965 - val_loss: 59233172.0000\n",
      "Epoch 214/600\n",
      "226/226 [==============================] - 0s 2ms/step - loss: 85020578.7841 - val_loss: 59200328.0000\n",
      "Epoch 215/600\n",
      "226/226 [==============================] - 0s 2ms/step - loss: 88014239.2599 - val_loss: 60086860.0000\n",
      "Epoch 216/600\n",
      "226/226 [==============================] - 0s 2ms/step - loss: 91158273.9383 - val_loss: 60086876.0000\n",
      "Epoch 217/600\n",
      "226/226 [==============================] - 0s 2ms/step - loss: 84656433.2687 - val_loss: 59417320.0000\n",
      "Epoch 218/600\n",
      "226/226 [==============================] - 0s 2ms/step - loss: 86982178.6432 - val_loss: 58221628.0000\n",
      "Epoch 219/600\n",
      "226/226 [==============================] - 0s 2ms/step - loss: 86974382.2026 - val_loss: 59658052.0000\n",
      "Epoch 220/600\n",
      "226/226 [==============================] - 0s 2ms/step - loss: 83123357.6740 - val_loss: 58160532.0000\n",
      "Epoch 221/600\n",
      "226/226 [==============================] - 0s 2ms/step - loss: 80097182.7313 - val_loss: 58042128.0000\n",
      "Epoch 222/600\n",
      "226/226 [==============================] - 0s 2ms/step - loss: 86312799.9648 - val_loss: 57560220.0000\n",
      "Epoch 223/600\n",
      "226/226 [==============================] - 0s 2ms/step - loss: 84021730.6079 - val_loss: 57907320.0000\n",
      "Epoch 224/600\n",
      "226/226 [==============================] - 0s 2ms/step - loss: 86561315.2775 - val_loss: 57292140.0000\n",
      "Epoch 225/600\n",
      "226/226 [==============================] - 0s 2ms/step - loss: 79555047.7709 - val_loss: 58675464.0000\n",
      "Epoch 226/600\n",
      "226/226 [==============================] - 0s 2ms/step - loss: 88042926.6256 - val_loss: 60973904.0000\n",
      "Epoch 227/600\n",
      "226/226 [==============================] - 0s 2ms/step - loss: 79000466.0793 - val_loss: 56761296.0000\n",
      "Epoch 228/600\n",
      "226/226 [==============================] - 0s 2ms/step - loss: 80045235.8062 - val_loss: 55652160.0000\n",
      "Epoch 229/600\n",
      "226/226 [==============================] - 0s 2ms/step - loss: 79611222.1145 - val_loss: 55606364.0000\n",
      "Epoch 230/600\n",
      "226/226 [==============================] - 0s 2ms/step - loss: 84997279.3480 - val_loss: 55295816.0000\n",
      "Epoch 231/600\n",
      "226/226 [==============================] - 0s 2ms/step - loss: 83022054.8370 - val_loss: 55883688.0000\n",
      "Epoch 232/600\n",
      "226/226 [==============================] - 0s 2ms/step - loss: 86831390.6256 - val_loss: 56097072.0000\n",
      "Epoch 233/600\n",
      "226/226 [==============================] - 0s 2ms/step - loss: 84054336.3172 - val_loss: 55696932.0000\n",
      "Epoch 234/600\n",
      "226/226 [==============================] - 0s 2ms/step - loss: 82464584.2115 - val_loss: 56019688.0000\n",
      "Epoch 235/600\n",
      "226/226 [==============================] - 0s 2ms/step - loss: 84087214.6960 - val_loss: 55490276.0000\n",
      "Epoch 236/600\n",
      "226/226 [==============================] - 0s 2ms/step - loss: 79822524.0352 - val_loss: 54525776.0000\n",
      "Epoch 237/600\n",
      "226/226 [==============================] - 0s 2ms/step - loss: 82738245.6035 - val_loss: 55860644.0000\n",
      "Epoch 238/600\n",
      "226/226 [==============================] - 0s 2ms/step - loss: 82629113.2335 - val_loss: 54222780.0000\n",
      "Epoch 239/600\n",
      "226/226 [==============================] - 0s 2ms/step - loss: 87570637.4097 - val_loss: 57317332.0000\n",
      "Epoch 240/600\n",
      "226/226 [==============================] - 0s 2ms/step - loss: 77653406.2026 - val_loss: 53342136.0000\n",
      "Epoch 241/600\n",
      "226/226 [==============================] - 0s 2ms/step - loss: 79367559.5771 - val_loss: 54244176.0000\n",
      "Epoch 242/600\n",
      "226/226 [==============================] - 0s 2ms/step - loss: 77427815.8767 - val_loss: 53515420.0000\n",
      "Epoch 243/600\n",
      "226/226 [==============================] - 0s 2ms/step - loss: 79449018.9427 - val_loss: 52554664.0000\n",
      "Epoch 244/600\n",
      "226/226 [==============================] - 0s 2ms/step - loss: 76914007.1189 - val_loss: 52629032.0000\n",
      "Epoch 245/600\n",
      "226/226 [==============================] - 0s 2ms/step - loss: 83775187.1542 - val_loss: 53276692.0000\n",
      "Epoch 246/600\n",
      "226/226 [==============================] - 0s 2ms/step - loss: 84545816.8106 - val_loss: 53402176.0000\n",
      "Epoch 247/600\n",
      "226/226 [==============================] - 0s 2ms/step - loss: 83766061.3216 - val_loss: 52967556.0000\n",
      "Epoch 248/600\n",
      "226/226 [==============================] - 0s 2ms/step - loss: 81634721.4097 - val_loss: 53439788.0000\n",
      "Epoch 249/600\n",
      "226/226 [==============================] - 0s 2ms/step - loss: 77243433.8855 - val_loss: 53936848.0000\n",
      "Epoch 250/600\n",
      "226/226 [==============================] - 0s 2ms/step - loss: 81053278.2555 - val_loss: 51094880.0000\n",
      "Epoch 251/600\n",
      "226/226 [==============================] - 0s 2ms/step - loss: 79991993.6564 - val_loss: 51391776.0000\n",
      "Epoch 252/600\n",
      "226/226 [==============================] - 0s 2ms/step - loss: 76450441.5154 - val_loss: 52698076.0000\n",
      "Epoch 253/600\n",
      "226/226 [==============================] - 0s 2ms/step - loss: 82662310.8018 - val_loss: 50272596.0000\n",
      "Epoch 254/600\n",
      "226/226 [==============================] - 0s 2ms/step - loss: 80386283.9119 - val_loss: 53713688.0000\n",
      "Epoch 255/600\n",
      "226/226 [==============================] - 0s 2ms/step - loss: 77761878.6256 - val_loss: 50252768.0000\n",
      "Epoch 256/600\n",
      "226/226 [==============================] - 0s 2ms/step - loss: 77516488.6167 - val_loss: 50442888.0000\n",
      "Epoch 257/600\n",
      "226/226 [==============================] - 0s 2ms/step - loss: 77884898.5374 - val_loss: 51550704.0000\n",
      "Epoch 258/600\n",
      "226/226 [==============================] - 0s 2ms/step - loss: 77760962.6432 - val_loss: 49358956.0000\n",
      "Epoch 259/600\n",
      "226/226 [==============================] - 0s 2ms/step - loss: 81345078.7841 - val_loss: 50762924.0000\n",
      "Epoch 260/600\n",
      "226/226 [==============================] - 0s 2ms/step - loss: 75442255.3480 - val_loss: 49726272.0000\n",
      "Epoch 261/600\n",
      "226/226 [==============================] - 0s 2ms/step - loss: 75824699.1013 - val_loss: 49914496.0000\n",
      "Epoch 262/600\n",
      "226/226 [==============================] - 0s 2ms/step - loss: 79089800.4229 - val_loss: 49786388.0000\n",
      "Epoch 263/600\n",
      "226/226 [==============================] - 0s 2ms/step - loss: 74748433.2159 - val_loss: 49132632.0000\n",
      "Epoch 264/600\n",
      "226/226 [==============================] - 0s 2ms/step - loss: 78995401.1806 - val_loss: 51348592.0000\n",
      "Epoch 265/600\n",
      "226/226 [==============================] - 0s 2ms/step - loss: 77486780.1586 - val_loss: 48274704.0000\n",
      "Epoch 266/600\n",
      "226/226 [==============================] - 0s 2ms/step - loss: 78235573.9207 - val_loss: 49751536.0000\n",
      "Epoch 267/600\n",
      "226/226 [==============================] - 0s 2ms/step - loss: 79802000.0352 - val_loss: 49446200.0000\n",
      "Epoch 268/600\n",
      "226/226 [==============================] - 0s 2ms/step - loss: 76076866.8370 - val_loss: 48739780.0000\n",
      "Epoch 269/600\n",
      "226/226 [==============================] - 0s 2ms/step - loss: 70446850.8194 - val_loss: 48420200.0000\n",
      "Epoch 270/600\n",
      "226/226 [==============================] - 0s 2ms/step - loss: 82779744.0705 - val_loss: 47141084.0000\n",
      "Epoch 271/600\n",
      "226/226 [==============================] - 0s 2ms/step - loss: 74509975.8590 - val_loss: 49270588.0000\n",
      "Epoch 272/600\n",
      "226/226 [==============================] - 0s 2ms/step - loss: 74246773.2863 - val_loss: 46690048.0000\n",
      "Epoch 273/600\n",
      "226/226 [==============================] - 0s 2ms/step - loss: 74761542.6960 - val_loss: 46057872.0000\n",
      "Epoch 274/600\n",
      "226/226 [==============================] - 0s 2ms/step - loss: 78826757.4273 - val_loss: 49709916.0000\n",
      "Epoch 275/600\n",
      "226/226 [==============================] - 0s 2ms/step - loss: 81553975.2599 - val_loss: 48411664.0000\n",
      "Epoch 276/600\n",
      "226/226 [==============================] - 0s 2ms/step - loss: 72706884.8987 - val_loss: 46165200.0000\n",
      "Epoch 277/600\n",
      "226/226 [==============================] - 0s 2ms/step - loss: 72991112.2819 - val_loss: 46485304.0000\n",
      "Epoch 278/600\n",
      "226/226 [==============================] - 0s 2ms/step - loss: 73480210.0617 - val_loss: 45343720.0000\n",
      "Epoch 279/600\n",
      "226/226 [==============================] - 0s 2ms/step - loss: 73617129.9736 - val_loss: 45530996.0000\n",
      "Epoch 280/600\n",
      "226/226 [==============================] - 0s 2ms/step - loss: 70761406.6608 - val_loss: 48667248.0000\n",
      "Epoch 281/600\n",
      "226/226 [==============================] - 0s 2ms/step - loss: 74855562.1145 - val_loss: 45762216.0000\n",
      "Epoch 282/600\n",
      "226/226 [==============================] - 0s 2ms/step - loss: 72891051.3304 - val_loss: 46246176.0000\n",
      "Epoch 283/600\n",
      "226/226 [==============================] - 0s 2ms/step - loss: 69145639.4361 - val_loss: 45390264.0000\n",
      "Epoch 284/600\n",
      "226/226 [==============================] - 0s 2ms/step - loss: 74507250.6079 - val_loss: 46601432.0000\n",
      "Epoch 285/600\n",
      "226/226 [==============================] - 0s 2ms/step - loss: 77202367.7885 - val_loss: 48901984.0000\n",
      "Epoch 286/600\n",
      "226/226 [==============================] - 0s 2ms/step - loss: 73512377.8502 - val_loss: 44176484.0000\n",
      "Epoch 287/600\n",
      "226/226 [==============================] - 0s 2ms/step - loss: 69176914.0793 - val_loss: 44373416.0000\n",
      "Epoch 288/600\n",
      "226/226 [==============================] - 0s 2ms/step - loss: 70254189.8150 - val_loss: 44934112.0000\n",
      "Epoch 289/600\n",
      "226/226 [==============================] - 0s 2ms/step - loss: 68843214.8370 - val_loss: 43816756.0000\n",
      "Epoch 290/600\n",
      "226/226 [==============================] - 0s 2ms/step - loss: 72936996.4229 - val_loss: 45690492.0000\n",
      "Epoch 291/600\n",
      "226/226 [==============================] - 0s 2ms/step - loss: 75988577.2687 - val_loss: 43872676.0000\n",
      "Epoch 292/600\n",
      "226/226 [==============================] - 0s 2ms/step - loss: 73738319.9295 - val_loss: 43983468.0000\n",
      "Epoch 293/600\n",
      "226/226 [==============================] - 0s 2ms/step - loss: 75371043.6652 - val_loss: 44318528.0000\n",
      "Epoch 294/600\n",
      "226/226 [==============================] - 0s 2ms/step - loss: 77620283.1013 - val_loss: 44124724.0000\n",
      "Epoch 295/600\n",
      "226/226 [==============================] - 0s 2ms/step - loss: 72771208.0529 - val_loss: 45637944.0000\n",
      "Epoch 296/600\n",
      "226/226 [==============================] - 0s 2ms/step - loss: 75114981.3040 - val_loss: 41791028.0000\n",
      "Epoch 297/600\n",
      "226/226 [==============================] - 0s 2ms/step - loss: 69016668.3877 - val_loss: 42722812.0000\n",
      "Epoch 298/600\n",
      "226/226 [==============================] - 0s 2ms/step - loss: 71822528.8282 - val_loss: 41394544.0000\n",
      "Epoch 299/600\n",
      "226/226 [==============================] - 0s 2ms/step - loss: 71324462.3084 - val_loss: 42726940.0000\n",
      "Epoch 300/600\n",
      "226/226 [==============================] - 0s 2ms/step - loss: 72188413.9559 - val_loss: 41425964.0000\n",
      "Epoch 301/600\n",
      "226/226 [==============================] - 0s 2ms/step - loss: 69920766.9956 - val_loss: 44218976.0000\n",
      "Epoch 302/600\n",
      "226/226 [==============================] - 0s 2ms/step - loss: 67567673.6916 - val_loss: 43170368.0000\n",
      "Epoch 303/600\n",
      "226/226 [==============================] - 0s 2ms/step - loss: 70711964.6872 - val_loss: 41547016.0000\n",
      "Epoch 304/600\n",
      "226/226 [==============================] - 0s 2ms/step - loss: 68521536.9692 - val_loss: 41291648.0000\n",
      "Epoch 305/600\n",
      "226/226 [==============================] - 0s 2ms/step - loss: 68188813.1454 - val_loss: 40699988.0000\n",
      "Epoch 306/600\n",
      "226/226 [==============================] - 0s 2ms/step - loss: 71420319.2070 - val_loss: 41473048.0000\n",
      "Epoch 307/600\n",
      "226/226 [==============================] - 0s 2ms/step - loss: 71600031.6828 - val_loss: 41363268.0000\n",
      "Epoch 308/600\n",
      "226/226 [==============================] - 0s 2ms/step - loss: 67379125.6211 - val_loss: 40226312.0000\n",
      "Epoch 309/600\n",
      "226/226 [==============================] - 0s 2ms/step - loss: 70632371.4009 - val_loss: 43085464.0000\n",
      "Epoch 310/600\n",
      "226/226 [==============================] - 1s 6ms/step - loss: 69377020.5286 - val_loss: 41850160.0000\n",
      "Epoch 311/600\n",
      "226/226 [==============================] - 1s 2ms/step - loss: 67916895.5771 - val_loss: 39943528.0000\n",
      "Epoch 312/600\n",
      "226/226 [==============================] - 0s 2ms/step - loss: 70975717.8326 - val_loss: 38939204.0000\n",
      "Epoch 313/600\n",
      "226/226 [==============================] - 1s 2ms/step - loss: 67313592.0529 - val_loss: 39747856.0000\n",
      "Epoch 314/600\n",
      "226/226 [==============================] - 0s 2ms/step - loss: 67949195.8062 - val_loss: 39201300.0000\n",
      "Epoch 315/600\n",
      "226/226 [==============================] - 0s 2ms/step - loss: 68389596.4053 - val_loss: 39360820.0000\n",
      "Epoch 316/600\n",
      "226/226 [==============================] - 1s 2ms/step - loss: 69229029.2511 - val_loss: 39099280.0000\n",
      "Epoch 317/600\n",
      "226/226 [==============================] - 0s 2ms/step - loss: 69161230.5903 - val_loss: 38910668.0000\n",
      "Epoch 318/600\n",
      "226/226 [==============================] - 0s 2ms/step - loss: 69274434.6079 - val_loss: 38702728.0000\n",
      "Epoch 319/600\n",
      "226/226 [==============================] - 0s 2ms/step - loss: 68768612.7225 - val_loss: 40025924.0000\n",
      "Epoch 320/600\n",
      "226/226 [==============================] - 0s 2ms/step - loss: 70929818.0617 - val_loss: 38224672.0000\n",
      "Epoch 321/600\n",
      "226/226 [==============================] - 0s 2ms/step - loss: 66234516.8282 - val_loss: 37994368.0000\n",
      "Epoch 322/600\n",
      "226/226 [==============================] - 0s 2ms/step - loss: 72266976.4581 - val_loss: 39453492.0000\n",
      "Epoch 323/600\n",
      "226/226 [==============================] - 0s 2ms/step - loss: 69141746.9075 - val_loss: 39642228.0000\n",
      "Epoch 324/600\n",
      "226/226 [==============================] - 0s 2ms/step - loss: 65802686.5022 - val_loss: 39972088.0000\n",
      "Epoch 325/600\n",
      "226/226 [==============================] - 1s 2ms/step - loss: 68892018.5022 - val_loss: 39597472.0000\n",
      "Epoch 326/600\n",
      "226/226 [==============================] - 0s 2ms/step - loss: 68621712.6520 - val_loss: 40132072.0000\n",
      "Epoch 327/600\n",
      "226/226 [==============================] - 0s 2ms/step - loss: 65745356.5286 - val_loss: 38526028.0000\n",
      "Epoch 328/600\n",
      "226/226 [==============================] - 0s 2ms/step - loss: 66279031.5419 - val_loss: 38269100.0000\n",
      "Epoch 329/600\n",
      "226/226 [==============================] - 0s 2ms/step - loss: 68483621.2511 - val_loss: 38214048.0000\n",
      "Epoch 330/600\n",
      "226/226 [==============================] - 0s 2ms/step - loss: 62284795.9295 - val_loss: 38424396.0000\n",
      "Epoch 331/600\n",
      "226/226 [==============================] - 0s 2ms/step - loss: 69814531.6123 - val_loss: 38046976.0000\n",
      "Epoch 332/600\n",
      "226/226 [==============================] - 0s 2ms/step - loss: 64960331.2952 - val_loss: 37453884.0000\n",
      "Epoch 333/600\n",
      "226/226 [==============================] - 0s 2ms/step - loss: 69039638.6608 - val_loss: 36590272.0000\n",
      "Epoch 334/600\n",
      "226/226 [==============================] - 0s 2ms/step - loss: 66880139.0837 - val_loss: 36920728.0000\n",
      "Epoch 335/600\n",
      "226/226 [==============================] - 0s 2ms/step - loss: 67389218.7665 - val_loss: 44132008.0000\n",
      "Epoch 336/600\n",
      "226/226 [==============================] - 0s 2ms/step - loss: 66118823.4361 - val_loss: 36368140.0000\n",
      "Epoch 337/600\n",
      "226/226 [==============================] - 0s 2ms/step - loss: 67222684.8106 - val_loss: 36319052.0000\n",
      "Epoch 338/600\n",
      "226/226 [==============================] - 0s 2ms/step - loss: 67016714.9251 - val_loss: 36082672.0000\n",
      "Epoch 339/600\n",
      "226/226 [==============================] - 0s 2ms/step - loss: 64431811.0661 - val_loss: 38294428.0000\n",
      "Epoch 340/600\n",
      "226/226 [==============================] - 0s 2ms/step - loss: 62677588.2996 - val_loss: 35056656.0000\n",
      "Epoch 341/600\n",
      "226/226 [==============================] - 0s 2ms/step - loss: 71614255.0132 - val_loss: 36069388.0000\n",
      "Epoch 342/600\n",
      "226/226 [==============================] - 0s 2ms/step - loss: 69637085.0749 - val_loss: 36252580.0000\n",
      "Epoch 343/600\n",
      "226/226 [==============================] - 0s 2ms/step - loss: 63761357.2511 - val_loss: 36923672.0000\n",
      "Epoch 344/600\n",
      "226/226 [==============================] - 0s 2ms/step - loss: 65801146.8546 - val_loss: 35392076.0000\n",
      "Epoch 345/600\n",
      "226/226 [==============================] - 0s 2ms/step - loss: 64978613.7269 - val_loss: 37070136.0000\n",
      "Epoch 346/600\n",
      "226/226 [==============================] - 0s 2ms/step - loss: 63680930.6784 - val_loss: 37352832.0000\n",
      "Epoch 347/600\n",
      "226/226 [==============================] - 0s 2ms/step - loss: 66715809.4978 - val_loss: 34044192.0000\n",
      "Epoch 348/600\n",
      "226/226 [==============================] - 1s 2ms/step - loss: 65887729.8502 - val_loss: 34211984.0000\n",
      "Epoch 349/600\n",
      "226/226 [==============================] - 0s 2ms/step - loss: 66936845.7974 - val_loss: 33574876.0000\n",
      "Epoch 350/600\n",
      "226/226 [==============================] - 0s 2ms/step - loss: 68730293.6740 - val_loss: 36086576.0000\n",
      "Epoch 351/600\n",
      "226/226 [==============================] - 0s 2ms/step - loss: 62615033.2335 - val_loss: 35035628.0000\n",
      "Epoch 352/600\n",
      "226/226 [==============================] - 0s 2ms/step - loss: 68468868.9163 - val_loss: 33970856.0000\n",
      "Epoch 353/600\n",
      "226/226 [==============================] - 0s 2ms/step - loss: 63184977.9912 - val_loss: 33760176.0000\n",
      "Epoch 354/600\n",
      "226/226 [==============================] - 0s 2ms/step - loss: 64437415.1366 - val_loss: 39037496.0000\n",
      "Epoch 355/600\n",
      "226/226 [==============================] - 0s 2ms/step - loss: 67176202.1850 - val_loss: 33765572.0000\n",
      "Epoch 356/600\n",
      "226/226 [==============================] - 0s 2ms/step - loss: 65215980.1586 - val_loss: 37331368.0000\n",
      "Epoch 357/600\n",
      "226/226 [==============================] - 0s 2ms/step - loss: 64128388.6520 - val_loss: 34000100.0000\n",
      "Epoch 358/600\n",
      "226/226 [==============================] - 0s 2ms/step - loss: 68478814.0088 - val_loss: 36197756.0000\n",
      "Epoch 359/600\n",
      "226/226 [==============================] - 0s 2ms/step - loss: 62828245.4626 - val_loss: 33132808.0000\n",
      "Epoch 360/600\n",
      "226/226 [==============================] - 0s 2ms/step - loss: 63448298.6960 - val_loss: 33492728.0000\n",
      "Epoch 361/600\n",
      "226/226 [==============================] - 0s 2ms/step - loss: 63464048.6696 - val_loss: 32381716.0000\n",
      "Epoch 362/600\n",
      "226/226 [==============================] - 0s 2ms/step - loss: 67216680.2467 - val_loss: 35449484.0000\n",
      "Epoch 363/600\n",
      "226/226 [==============================] - 0s 2ms/step - loss: 65610511.6476 - val_loss: 33643432.0000\n",
      "Epoch 364/600\n",
      "226/226 [==============================] - 0s 2ms/step - loss: 63746375.2423 - val_loss: 33560048.0000\n",
      "Epoch 365/600\n",
      "226/226 [==============================] - 0s 2ms/step - loss: 60741403.5066 - val_loss: 33470440.0000\n",
      "Epoch 366/600\n",
      "226/226 [==============================] - 0s 2ms/step - loss: 62707109.9383 - val_loss: 33083016.0000\n",
      "Epoch 367/600\n",
      "226/226 [==============================] - 0s 2ms/step - loss: 61721626.0793 - val_loss: 32756264.0000\n",
      "Epoch 368/600\n",
      "226/226 [==============================] - 0s 2ms/step - loss: 62386132.2203 - val_loss: 33605144.0000\n",
      "Epoch 369/600\n",
      "226/226 [==============================] - 0s 2ms/step - loss: 58801905.6740 - val_loss: 36153196.0000\n",
      "Epoch 370/600\n",
      "226/226 [==============================] - 0s 2ms/step - loss: 65590557.3040 - val_loss: 32701232.0000\n",
      "Epoch 371/600\n",
      "226/226 [==============================] - 0s 2ms/step - loss: 63113845.4626 - val_loss: 32216120.0000\n",
      "Epoch 372/600\n",
      "226/226 [==============================] - 0s 2ms/step - loss: 66573289.5507 - val_loss: 32177550.0000\n",
      "Epoch 373/600\n",
      "226/226 [==============================] - 0s 2ms/step - loss: 69058235.2599 - val_loss: 34458868.0000\n",
      "Epoch 374/600\n",
      "226/226 [==============================] - 0s 2ms/step - loss: 63955798.5551 - val_loss: 32548184.0000\n",
      "Epoch 375/600\n",
      "226/226 [==============================] - 0s 2ms/step - loss: 60022026.8018 - val_loss: 32588744.0000\n",
      "Epoch 376/600\n",
      "226/226 [==============================] - 0s 2ms/step - loss: 62902219.3128 - val_loss: 33333288.0000\n",
      "Epoch 377/600\n",
      "226/226 [==============================] - 0s 2ms/step - loss: 61790144.0617 - val_loss: 32572660.0000\n",
      "Epoch 378/600\n",
      "226/226 [==============================] - 0s 2ms/step - loss: 61108937.0573 - val_loss: 31949838.0000\n",
      "Epoch 379/600\n",
      "226/226 [==============================] - 0s 2ms/step - loss: 63729600.8458 - val_loss: 34492932.0000\n",
      "Epoch 380/600\n",
      "226/226 [==============================] - 0s 2ms/step - loss: 60963542.4493 - val_loss: 33820500.0000\n",
      "Epoch 381/600\n",
      "226/226 [==============================] - 0s 2ms/step - loss: 65396121.3568 - val_loss: 32718464.0000\n",
      "Epoch 382/600\n",
      "226/226 [==============================] - 0s 2ms/step - loss: 66094929.3040 - val_loss: 32162494.0000\n",
      "Epoch 383/600\n",
      "226/226 [==============================] - 0s 2ms/step - loss: 65950279.8767 - val_loss: 32225548.0000\n",
      "Epoch 384/600\n",
      "226/226 [==============================] - 0s 2ms/step - loss: 64359815.0661 - val_loss: 31896526.0000\n",
      "Epoch 385/600\n",
      "226/226 [==============================] - 0s 2ms/step - loss: 66126710.5727 - val_loss: 30476438.0000\n",
      "Epoch 386/600\n",
      "226/226 [==============================] - 0s 2ms/step - loss: 60942755.0925 - val_loss: 31818090.0000\n",
      "Epoch 387/600\n",
      "226/226 [==============================] - 0s 2ms/step - loss: 65674724.2819 - val_loss: 30548226.0000\n",
      "Epoch 388/600\n",
      "226/226 [==============================] - 0s 2ms/step - loss: 62562240.4581 - val_loss: 31347024.0000\n",
      "Epoch 389/600\n",
      "226/226 [==============================] - 0s 2ms/step - loss: 62401607.6652 - val_loss: 30757200.0000\n",
      "Epoch 390/600\n",
      "226/226 [==============================] - 0s 2ms/step - loss: 64983313.3040 - val_loss: 33905728.0000\n",
      "Epoch 391/600\n",
      "226/226 [==============================] - 0s 2ms/step - loss: 62801529.2687 - val_loss: 33060374.0000\n",
      "Epoch 392/600\n",
      "226/226 [==============================] - 0s 2ms/step - loss: 64375347.0132 - val_loss: 31845046.0000\n",
      "Epoch 393/600\n",
      "226/226 [==============================] - 0s 2ms/step - loss: 60900002.5198 - val_loss: 33923388.0000\n",
      "Epoch 394/600\n",
      "226/226 [==============================] - 0s 2ms/step - loss: 59230712.1762 - val_loss: 30758930.0000\n",
      "Epoch 395/600\n",
      "226/226 [==============================] - 0s 2ms/step - loss: 61682015.7357 - val_loss: 30515952.0000\n",
      "Epoch 396/600\n",
      "226/226 [==============================] - 0s 2ms/step - loss: 64498245.2863 - val_loss: 32367670.0000\n",
      "Epoch 397/600\n",
      "226/226 [==============================] - 0s 2ms/step - loss: 62897640.7930 - val_loss: 31233254.0000\n",
      "Epoch 398/600\n",
      "226/226 [==============================] - 0s 2ms/step - loss: 62009594.8018 - val_loss: 31141462.0000\n",
      "Epoch 399/600\n",
      "226/226 [==============================] - 0s 2ms/step - loss: 61121444.0881 - val_loss: 31130760.0000\n",
      "Epoch 400/600\n",
      "226/226 [==============================] - 0s 2ms/step - loss: 60441047.0132 - val_loss: 31584896.0000\n",
      "Epoch 401/600\n",
      "226/226 [==============================] - 0s 2ms/step - loss: 66022241.2511 - val_loss: 30590292.0000\n",
      "Epoch 402/600\n",
      "226/226 [==============================] - 0s 2ms/step - loss: 63218208.6696 - val_loss: 29572802.0000\n",
      "Epoch 403/600\n",
      "226/226 [==============================] - 0s 2ms/step - loss: 61660675.4009 - val_loss: 29899188.0000\n",
      "Epoch 404/600\n",
      "226/226 [==============================] - 0s 2ms/step - loss: 61252471.8590 - val_loss: 31521222.0000\n",
      "Epoch 405/600\n",
      "226/226 [==============================] - 0s 2ms/step - loss: 59819159.0132 - val_loss: 32205188.0000\n",
      "Epoch 406/600\n",
      "226/226 [==============================] - 0s 2ms/step - loss: 59693956.3348 - val_loss: 32852282.0000\n",
      "Epoch 407/600\n",
      "226/226 [==============================] - 0s 2ms/step - loss: 61177559.3128 - val_loss: 29648402.0000\n",
      "Epoch 408/600\n",
      "226/226 [==============================] - 0s 2ms/step - loss: 60638310.2731 - val_loss: 30921608.0000\n",
      "Epoch 409/600\n",
      "226/226 [==============================] - 0s 2ms/step - loss: 65036193.0044 - val_loss: 31118788.0000\n",
      "Epoch 410/600\n",
      "226/226 [==============================] - 0s 2ms/step - loss: 56718714.6784 - val_loss: 31888606.0000\n",
      "Epoch 411/600\n",
      "226/226 [==============================] - 0s 2ms/step - loss: 60813425.2335 - val_loss: 29879614.0000\n",
      "Epoch 412/600\n",
      "226/226 [==============================] - 0s 2ms/step - loss: 61091926.7313 - val_loss: 29964132.0000\n",
      "Epoch 413/600\n",
      "226/226 [==============================] - 0s 2ms/step - loss: 57768372.8546 - val_loss: 29100864.0000\n",
      "Epoch 414/600\n",
      "226/226 [==============================] - 0s 2ms/step - loss: 59430835.1013 - val_loss: 29926894.0000\n",
      "Epoch 415/600\n",
      "226/226 [==============================] - 0s 2ms/step - loss: 59801638.9075 - val_loss: 30706734.0000\n",
      "Epoch 416/600\n",
      "226/226 [==============================] - 0s 2ms/step - loss: 62201184.6520 - val_loss: 30777122.0000\n",
      "Epoch 417/600\n",
      "226/226 [==============================] - 0s 2ms/step - loss: 64001540.9515 - val_loss: 29494914.0000\n",
      "Epoch 418/600\n",
      "226/226 [==============================] - 0s 2ms/step - loss: 58847886.3789 - val_loss: 29611802.0000\n",
      "Epoch 419/600\n",
      "226/226 [==============================] - 0s 2ms/step - loss: 66151961.1982 - val_loss: 28923198.0000\n",
      "Epoch 420/600\n",
      "226/226 [==============================] - 0s 2ms/step - loss: 61530841.2070 - val_loss: 31208612.0000\n",
      "Epoch 421/600\n",
      "226/226 [==============================] - 0s 2ms/step - loss: 65237964.2819 - val_loss: 30143134.0000\n",
      "Epoch 422/600\n",
      "226/226 [==============================] - 0s 2ms/step - loss: 61136523.7533 - val_loss: 28667338.0000\n",
      "Epoch 423/600\n",
      "226/226 [==============================] - 0s 2ms/step - loss: 64341465.0573 - val_loss: 33516992.0000\n",
      "Epoch 424/600\n",
      "226/226 [==============================] - 0s 2ms/step - loss: 58358867.6123 - val_loss: 31117514.0000\n",
      "Epoch 425/600\n",
      "226/226 [==============================] - 0s 2ms/step - loss: 59238755.5419 - val_loss: 28719466.0000\n",
      "Epoch 426/600\n",
      "226/226 [==============================] - 0s 2ms/step - loss: 60136390.4846 - val_loss: 29941238.0000\n",
      "Epoch 427/600\n",
      "226/226 [==============================] - 0s 2ms/step - loss: 65210230.3965 - val_loss: 29712378.0000\n",
      "Epoch 428/600\n",
      "226/226 [==============================] - 0s 2ms/step - loss: 64820548.4405 - val_loss: 28168074.0000\n",
      "Epoch 429/600\n",
      "226/226 [==============================] - 0s 2ms/step - loss: 63799013.7974 - val_loss: 29028438.0000\n",
      "Epoch 430/600\n",
      "226/226 [==============================] - 0s 2ms/step - loss: 62036692.0352 - val_loss: 28295964.0000\n",
      "Epoch 431/600\n",
      "226/226 [==============================] - 0s 2ms/step - loss: 62007259.6476 - val_loss: 30843660.0000\n",
      "Epoch 432/600\n",
      "226/226 [==============================] - 0s 2ms/step - loss: 62068211.7533 - val_loss: 29907938.0000\n",
      "Epoch 433/600\n",
      "226/226 [==============================] - 0s 2ms/step - loss: 63152592.0881 - val_loss: 28955380.0000\n",
      "Epoch 434/600\n",
      "226/226 [==============================] - 0s 2ms/step - loss: 61931940.6872 - val_loss: 27934206.0000\n",
      "Epoch 435/600\n",
      "226/226 [==============================] - 0s 2ms/step - loss: 56592375.6652 - val_loss: 30345000.0000\n",
      "Epoch 436/600\n",
      "226/226 [==============================] - 0s 2ms/step - loss: 60793496.7753 - val_loss: 29183900.0000\n",
      "Epoch 437/600\n",
      "226/226 [==============================] - 0s 2ms/step - loss: 60111337.3392 - val_loss: 33214422.0000\n",
      "Epoch 438/600\n",
      "226/226 [==============================] - 0s 2ms/step - loss: 58109069.0925 - val_loss: 32489012.0000\n",
      "Epoch 439/600\n",
      "226/226 [==============================] - 0s 2ms/step - loss: 61677646.6256 - val_loss: 29151722.0000\n",
      "Epoch 440/600\n",
      "226/226 [==============================] - 0s 2ms/step - loss: 64002999.0661 - val_loss: 28669264.0000\n",
      "Epoch 441/600\n",
      "226/226 [==============================] - 0s 2ms/step - loss: 56778191.8238 - val_loss: 27520132.0000\n",
      "Epoch 442/600\n",
      "226/226 [==============================] - 0s 2ms/step - loss: 59070462.4317 - val_loss: 29925120.0000\n",
      "Epoch 443/600\n",
      "226/226 [==============================] - 0s 2ms/step - loss: 57746308.2291 - val_loss: 27883894.0000\n",
      "Epoch 444/600\n",
      "226/226 [==============================] - 0s 2ms/step - loss: 59421610.6784 - val_loss: 28764386.0000\n",
      "Epoch 445/600\n",
      "226/226 [==============================] - 0s 2ms/step - loss: 57174537.7621 - val_loss: 28608980.0000\n",
      "Epoch 446/600\n",
      "226/226 [==============================] - 0s 2ms/step - loss: 58024465.1630 - val_loss: 29986438.0000\n",
      "Epoch 447/600\n",
      "226/226 [==============================] - 0s 2ms/step - loss: 62668623.7709 - val_loss: 27348492.0000\n",
      "Epoch 448/600\n",
      "226/226 [==============================] - 0s 2ms/step - loss: 62175768.9515 - val_loss: 29348534.0000\n",
      "Epoch 449/600\n",
      "226/226 [==============================] - 0s 2ms/step - loss: 60801014.5374 - val_loss: 29393826.0000\n",
      "Epoch 450/600\n",
      "226/226 [==============================] - 0s 2ms/step - loss: 62650256.5815 - val_loss: 27620780.0000\n",
      "Epoch 451/600\n",
      "226/226 [==============================] - 0s 2ms/step - loss: 59966813.7445 - val_loss: 29898470.0000\n",
      "Epoch 452/600\n",
      "226/226 [==============================] - 0s 2ms/step - loss: 62483384.4934 - val_loss: 28834254.0000\n",
      "Epoch 453/600\n",
      "226/226 [==============================] - 0s 2ms/step - loss: 59155795.7181 - val_loss: 31081700.0000\n",
      "Epoch 454/600\n",
      "226/226 [==============================] - 0s 2ms/step - loss: 60867352.9339 - val_loss: 29303322.0000\n",
      "Epoch 455/600\n",
      "226/226 [==============================] - 0s 2ms/step - loss: 60111127.9295 - val_loss: 27869896.0000\n",
      "Epoch 456/600\n",
      "226/226 [==============================] - 0s 2ms/step - loss: 60663067.5771 - val_loss: 29712430.0000\n",
      "Epoch 457/600\n",
      "226/226 [==============================] - 0s 2ms/step - loss: 60972059.4361 - val_loss: 28731478.0000\n",
      "Epoch 458/600\n",
      "226/226 [==============================] - 0s 2ms/step - loss: 61954681.2335 - val_loss: 27856534.0000\n",
      "Epoch 459/600\n",
      "226/226 [==============================] - 0s 2ms/step - loss: 58118569.8678 - val_loss: 26647660.0000\n",
      "Epoch 460/600\n",
      "226/226 [==============================] - 0s 2ms/step - loss: 61124117.5330 - val_loss: 26654726.0000\n",
      "Epoch 461/600\n",
      "226/226 [==============================] - 0s 2ms/step - loss: 59907977.5683 - val_loss: 28606192.0000\n",
      "Epoch 462/600\n",
      "226/226 [==============================] - 0s 2ms/step - loss: 61409150.8370 - val_loss: 27814338.0000\n",
      "Epoch 463/600\n",
      "226/226 [==============================] - 0s 2ms/step - loss: 61364377.4449 - val_loss: 28118430.0000\n",
      "Epoch 464/600\n",
      "226/226 [==============================] - 0s 2ms/step - loss: 63412829.3568 - val_loss: 28591202.0000\n",
      "Epoch 465/600\n",
      "226/226 [==============================] - 0s 2ms/step - loss: 61969888.3348 - val_loss: 27435014.0000\n",
      "Epoch 466/600\n",
      "226/226 [==============================] - 0s 2ms/step - loss: 64277044.6344 - val_loss: 29275664.0000\n",
      "Epoch 467/600\n",
      "226/226 [==============================] - 0s 2ms/step - loss: 56755698.7313 - val_loss: 27048624.0000\n",
      "Epoch 468/600\n",
      "226/226 [==============================] - 0s 2ms/step - loss: 58678450.8018 - val_loss: 28781834.0000\n",
      "Epoch 469/600\n",
      "226/226 [==============================] - 0s 2ms/step - loss: 57449821.3744 - val_loss: 29357234.0000\n",
      "Epoch 470/600\n",
      "226/226 [==============================] - 0s 2ms/step - loss: 62189927.6476 - val_loss: 28661180.0000\n",
      "Epoch 471/600\n",
      "226/226 [==============================] - 0s 2ms/step - loss: 56751801.0220 - val_loss: 27898264.0000\n",
      "Epoch 472/600\n",
      "226/226 [==============================] - 0s 2ms/step - loss: 62418691.0485 - val_loss: 27032306.0000\n",
      "Epoch 473/600\n",
      "226/226 [==============================] - 0s 2ms/step - loss: 61264587.0661 - val_loss: 29923512.0000\n",
      "Epoch 474/600\n",
      "226/226 [==============================] - 0s 2ms/step - loss: 60454966.6784 - val_loss: 31518178.0000\n",
      "Epoch 475/600\n",
      "226/226 [==============================] - 0s 2ms/step - loss: 63180910.0264 - val_loss: 28271288.0000\n",
      "Epoch 476/600\n",
      "226/226 [==============================] - 0s 2ms/step - loss: 61294933.1630 - val_loss: 27185322.0000\n",
      "Epoch 477/600\n",
      "226/226 [==============================] - 0s 2ms/step - loss: 65658441.9031 - val_loss: 28363440.0000\n",
      "Epoch 478/600\n",
      "226/226 [==============================] - 0s 2ms/step - loss: 63310372.3524 - val_loss: 29225670.0000\n",
      "Epoch 479/600\n",
      "226/226 [==============================] - 0s 2ms/step - loss: 58605069.2335 - val_loss: 28788138.0000\n",
      "Epoch 480/600\n",
      "226/226 [==============================] - 0s 2ms/step - loss: 58464447.8062 - val_loss: 26489378.0000\n",
      "Epoch 481/600\n",
      "226/226 [==============================] - 0s 2ms/step - loss: 61324461.2952 - val_loss: 30964028.0000\n",
      "Epoch 482/600\n",
      "226/226 [==============================] - 0s 2ms/step - loss: 61008826.0088 - val_loss: 28522764.0000\n",
      "Epoch 483/600\n",
      "226/226 [==============================] - 0s 2ms/step - loss: 62040818.5727 - val_loss: 30423286.0000\n",
      "Epoch 484/600\n",
      "226/226 [==============================] - 0s 2ms/step - loss: 58618885.1982 - val_loss: 27437632.0000\n",
      "Epoch 485/600\n",
      "226/226 [==============================] - 0s 2ms/step - loss: 58519736.7930 - val_loss: 28475416.0000\n",
      "Epoch 486/600\n",
      "226/226 [==============================] - 0s 2ms/step - loss: 57977714.6256 - val_loss: 28247556.0000\n",
      "Epoch 487/600\n",
      "226/226 [==============================] - 0s 2ms/step - loss: 59435243.2775 - val_loss: 28910284.0000\n",
      "Epoch 488/600\n",
      "226/226 [==============================] - 0s 2ms/step - loss: 63616826.9604 - val_loss: 34272216.0000\n",
      "Epoch 489/600\n",
      "226/226 [==============================] - 0s 2ms/step - loss: 57442080.4053 - val_loss: 27761174.0000\n",
      "Epoch 490/600\n",
      "226/226 [==============================] - 0s 2ms/step - loss: 57755236.9692 - val_loss: 29587938.0000\n",
      "Epoch 491/600\n",
      "226/226 [==============================] - 0s 2ms/step - loss: 59193324.2115 - val_loss: 26132778.0000\n",
      "Epoch 492/600\n",
      "226/226 [==============================] - 0s 2ms/step - loss: 59335195.9824 - val_loss: 32877648.0000\n",
      "Epoch 493/600\n",
      "226/226 [==============================] - 0s 2ms/step - loss: 60583221.0573 - val_loss: 28757124.0000\n",
      "Epoch 494/600\n",
      "226/226 [==============================] - 0s 2ms/step - loss: 60207487.8414 - val_loss: 28161738.0000\n",
      "Epoch 495/600\n",
      "226/226 [==============================] - 0s 2ms/step - loss: 61229765.5507 - val_loss: 28486198.0000\n",
      "Epoch 496/600\n",
      "226/226 [==============================] - 0s 2ms/step - loss: 61203117.5859 - val_loss: 25969418.0000\n",
      "Epoch 497/600\n",
      "226/226 [==============================] - 0s 2ms/step - loss: 60444572.9868 - val_loss: 29429516.0000\n",
      "Epoch 498/600\n",
      "226/226 [==============================] - 0s 2ms/step - loss: 60111578.6079 - val_loss: 26732944.0000\n",
      "Epoch 499/600\n",
      "226/226 [==============================] - 0s 2ms/step - loss: 58486724.9515 - val_loss: 34393420.0000\n",
      "Epoch 500/600\n",
      "226/226 [==============================] - 0s 2ms/step - loss: 63369995.4537 - val_loss: 29933914.0000\n",
      "Epoch 501/600\n",
      "226/226 [==============================] - 0s 2ms/step - loss: 56330371.0661 - val_loss: 26487700.0000\n",
      "Epoch 502/600\n",
      "226/226 [==============================] - 0s 2ms/step - loss: 58093814.7489 - val_loss: 27480530.0000\n",
      "Epoch 503/600\n",
      "226/226 [==============================] - 0s 2ms/step - loss: 64387256.7577 - val_loss: 28152454.0000\n",
      "Epoch 504/600\n",
      "226/226 [==============================] - 0s 2ms/step - loss: 57654375.7533 - val_loss: 28806782.0000\n",
      "Epoch 505/600\n",
      "226/226 [==============================] - 0s 2ms/step - loss: 58556465.9207 - val_loss: 27885442.0000\n",
      "Epoch 506/600\n",
      "226/226 [==============================] - 0s 2ms/step - loss: 55422200.7753 - val_loss: 28654124.0000\n",
      "Epoch 507/600\n",
      "226/226 [==============================] - 0s 2ms/step - loss: 61396773.6388 - val_loss: 26843614.0000\n",
      "Epoch 508/600\n",
      "226/226 [==============================] - 0s 2ms/step - loss: 59161423.7885 - val_loss: 32266982.0000\n",
      "Epoch 509/600\n",
      "226/226 [==============================] - 0s 2ms/step - loss: 63443968.6696 - val_loss: 26580910.0000\n",
      "Epoch 510/600\n",
      "226/226 [==============================] - 0s 2ms/step - loss: 61068766.6079 - val_loss: 27183324.0000\n",
      "Epoch 511/600\n",
      "226/226 [==============================] - 0s 2ms/step - loss: 60629154.2203 - val_loss: 25880126.0000\n",
      "Epoch 512/600\n",
      "226/226 [==============================] - 0s 2ms/step - loss: 62333985.1278 - val_loss: 26098264.0000\n",
      "Epoch 513/600\n",
      "226/226 [==============================] - 0s 2ms/step - loss: 59863043.9648 - val_loss: 28593610.0000\n",
      "Epoch 514/600\n",
      "226/226 [==============================] - 0s 2ms/step - loss: 57494631.9471 - val_loss: 26407930.0000\n",
      "Epoch 515/600\n",
      "226/226 [==============================] - 0s 2ms/step - loss: 56223387.4890 - val_loss: 25460662.0000\n",
      "Epoch 516/600\n",
      "226/226 [==============================] - 0s 2ms/step - loss: 60692807.4361 - val_loss: 25986792.0000\n",
      "Epoch 517/600\n",
      "226/226 [==============================] - 0s 2ms/step - loss: 60194454.1145 - val_loss: 27517546.0000\n",
      "Epoch 518/600\n",
      "226/226 [==============================] - 0s 2ms/step - loss: 54911678.3260 - val_loss: 26111150.0000\n",
      "Epoch 519/600\n",
      "226/226 [==============================] - 0s 2ms/step - loss: 55402606.5022 - val_loss: 26023892.0000\n",
      "Epoch 520/600\n",
      "226/226 [==============================] - 0s 2ms/step - loss: 58667111.5242 - val_loss: 26487754.0000\n",
      "Epoch 521/600\n",
      "226/226 [==============================] - 0s 2ms/step - loss: 64918842.5374 - val_loss: 27150216.0000\n",
      "Epoch 522/600\n",
      "226/226 [==============================] - 0s 2ms/step - loss: 62060094.8194 - val_loss: 25968750.0000\n",
      "Epoch 523/600\n",
      "226/226 [==============================] - 0s 2ms/step - loss: 58551706.6079 - val_loss: 26961806.0000\n",
      "Epoch 524/600\n",
      "226/226 [==============================] - 0s 2ms/step - loss: 60099909.2335 - val_loss: 27867222.0000\n",
      "Epoch 525/600\n",
      "226/226 [==============================] - 0s 2ms/step - loss: 61858443.6476 - val_loss: 31113488.0000\n",
      "Epoch 526/600\n",
      "226/226 [==============================] - 0s 2ms/step - loss: 58227738.8546 - val_loss: 34790664.0000\n",
      "Epoch 527/600\n",
      "226/226 [==============================] - 0s 2ms/step - loss: 60940531.2775 - val_loss: 27251278.0000\n",
      "Epoch 528/600\n",
      "226/226 [==============================] - 0s 2ms/step - loss: 60467191.7181 - val_loss: 27456598.0000\n",
      "Epoch 529/600\n",
      "226/226 [==============================] - 0s 2ms/step - loss: 56633268.2819 - val_loss: 30875484.0000\n",
      "Epoch 530/600\n",
      "226/226 [==============================] - 0s 2ms/step - loss: 57423676.1233 - val_loss: 27156410.0000\n",
      "Epoch 531/600\n",
      "226/226 [==============================] - 0s 2ms/step - loss: 60947227.5066 - val_loss: 26162290.0000\n",
      "Epoch 532/600\n",
      "226/226 [==============================] - 0s 2ms/step - loss: 58834444.2115 - val_loss: 25962538.0000\n",
      "Epoch 533/600\n",
      "226/226 [==============================] - 0s 2ms/step - loss: 58819819.0661 - val_loss: 26354036.0000\n",
      "Epoch 534/600\n",
      "226/226 [==============================] - 0s 2ms/step - loss: 64579172.9163 - val_loss: 27212610.0000\n",
      "Epoch 535/600\n",
      "226/226 [==============================] - 0s 2ms/step - loss: 59905770.7313 - val_loss: 26191578.0000\n",
      "Epoch 536/600\n",
      "226/226 [==============================] - 0s 2ms/step - loss: 64379046.2203 - val_loss: 26808810.0000\n",
      "Epoch 537/600\n",
      "226/226 [==============================] - 0s 2ms/step - loss: 62738789.8326 - val_loss: 26103022.0000\n",
      "Epoch 538/600\n",
      "226/226 [==============================] - 0s 2ms/step - loss: 57570115.1101 - val_loss: 27465716.0000\n",
      "Epoch 539/600\n",
      "226/226 [==============================] - 0s 2ms/step - loss: 61114688.1410 - val_loss: 29170400.0000\n",
      "Epoch 540/600\n",
      "226/226 [==============================] - 0s 2ms/step - loss: 55273660.0352 - val_loss: 26585894.0000\n",
      "Epoch 00540: early stopping\n"
     ]
    },
    {
     "data": {
      "text/plain": [
       "<tensorflow.python.keras.callbacks.History at 0x7fd1ca7a6bd0>"
      ]
     },
     "execution_count": 29,
     "metadata": {},
     "output_type": "execute_result"
    }
   ],
   "source": [
    "model.fit(x=X_train, \n",
    "          y=y_train, \n",
    "          epochs=600,\n",
    "          validation_data=(X_test, y_test),\n",
    "          callbacks=[early_stop]\n",
    "          )"
   ]
  },
  {
   "cell_type": "code",
   "execution_count": 30,
   "metadata": {
    "execution": {
     "iopub.execute_input": "2021-02-14T15:34:26.674373Z",
     "iopub.status.busy": "2021-02-14T15:34:26.673381Z",
     "iopub.status.idle": "2021-02-14T15:34:26.855990Z",
     "shell.execute_reply": "2021-02-14T15:34:26.855462Z"
    },
    "papermill": {
     "duration": 1.316499,
     "end_time": "2021-02-14T15:34:26.856170",
     "exception": false,
     "start_time": "2021-02-14T15:34:25.539671",
     "status": "completed"
    },
    "tags": []
   },
   "outputs": [
    {
     "data": {
      "text/plain": [
       "<AxesSubplot:>"
      ]
     },
     "execution_count": 30,
     "metadata": {},
     "output_type": "execute_result"
    },
    {
     "data": {
      "image/png": "[encoded data removed]",
      "text/plain": [
       "<Figure size 432x288 with 1 Axes>"
      ]
     },
     "metadata": {
      "needs_background": "light"
     },
     "output_type": "display_data"
    }
   ],
   "source": [
    "losses = pd.DataFrame(model.history.history)\n",
    "losses.plot()"
   ]
  },
  {
   "cell_type": "code",
   "execution_count": 31,
   "metadata": {
    "execution": {
     "iopub.execute_input": "2021-02-14T15:34:29.187160Z",
     "iopub.status.busy": "2021-02-14T15:34:29.186279Z",
     "iopub.status.idle": "2021-02-14T15:34:29.375846Z",
     "shell.execute_reply": "2021-02-14T15:34:29.375014Z"
    },
    "papermill": {
     "duration": 1.376928,
     "end_time": "2021-02-14T15:34:29.376010",
     "exception": false,
     "start_time": "2021-02-14T15:34:27.999082",
     "status": "completed"
    },
    "tags": []
   },
   "outputs": [],
   "source": [
    "y_pred = model.predict(X_test)"
   ]
  },
  {
   "cell_type": "code",
   "execution_count": 32,
   "metadata": {
    "execution": {
     "iopub.execute_input": "2021-02-14T15:34:31.701916Z",
     "iopub.status.busy": "2021-02-14T15:34:31.701262Z",
     "iopub.status.idle": "2021-02-14T15:34:31.705195Z",
     "shell.execute_reply": "2021-02-14T15:34:31.705691Z"
    },
    "papermill": {
     "duration": 1.197107,
     "end_time": "2021-02-14T15:34:31.705866",
     "exception": false,
     "start_time": "2021-02-14T15:34:30.508759",
     "status": "completed"
    },
    "tags": []
   },
   "outputs": [
    {
     "data": {
      "text/plain": [
       "5156.151217503966"
      ]
     },
     "execution_count": 32,
     "metadata": {},
     "output_type": "execute_result"
    }
   ],
   "source": [
    "np.sqrt(MSE(y_test,y_pred))"
   ]
  }
 ],
 "metadata": {
  "kernelspec": {
   "display_name": "Python 3 (ipykernel)",
   "language": "python",
   "name": "python3"
  },
  "language_info": {
   "codemirror_mode": {
    "name": "ipython",
    "version": 3
   },
   "file_extension": ".py",
   "mimetype": "text/x-python",
   "name": "python",
   "nbconvert_exporter": "python",
   "pygments_lexer": "ipython3",
   "version": "3.12.2"
  },
  "papermill": {
   "default_parameters": {},
   "duration": 245.204432,
   "end_time": "2021-02-14T15:34:33.949541",
   "environment_variables": {},
   "exception": null,
   "input_path": "__notebook__.ipynb",
   "output_path": "__notebook__.ipynb",
   "parameters": {},
   "start_time": "2021-02-14T15:30:28.745109",
   "version": "2.2.2"
  }
 },
 "nbformat": 4,
 "nbformat_minor": 4
}
